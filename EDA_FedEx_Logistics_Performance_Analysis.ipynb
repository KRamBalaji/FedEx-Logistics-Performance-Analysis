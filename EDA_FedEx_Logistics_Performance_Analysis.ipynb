{
  "nbformat": 4,
  "nbformat_minor": 0,
  "metadata": {
    "colab": {
      "provenance": [],
      "authorship_tag": "ABX9TyOOz/oPUBWMEpjyGhVSLP+2",
      "include_colab_link": true
    },
    "kernelspec": {
      "name": "python3",
      "display_name": "Python 3"
    },
    "language_info": {
      "name": "python"
    }
  },
  "cells": [
    {
      "cell_type": "markdown",
      "metadata": {
        "id": "view-in-github",
        "colab_type": "text"
      },
      "source": [
        "<a href=\"https://colab.research.google.com/github/KRamBalaji/FedEx-Logistics-Performance-Analysis/blob/main/EDA_FedEx_Logistics_Performance_Analysis.ipynb\" target=\"_parent\"><img src=\"https://colab.research.google.com/assets/colab-badge.svg\" alt=\"Open In Colab\"/></a>"
      ]
    },
    {
      "cell_type": "markdown",
      "source": [
        "# **Project Name**    - **FedEx Logistics Performance Analysis**"
      ],
      "metadata": {
        "id": "MaOLelNRmaNN"
      }
    },
    {
      "cell_type": "markdown",
      "source": [
        "\n",
        "##### **Project Type**    - EDA\n",
        "##### **Contribution**    - Individual/Team\n",
        "\n"
      ],
      "metadata": {
        "id": "HuYYxOMtmpLF"
      }
    },
    {
      "cell_type": "markdown",
      "source": [
        "# **Project Summary -**"
      ],
      "metadata": {
        "id": "0nax05A9oLwK"
      }
    },
    {
      "cell_type": "markdown",
      "source": [],
      "metadata": {
        "id": "99t6Q4qdoRwn"
      }
    },
    {
      "cell_type": "markdown",
      "source": [
        "#### **Define Your Business Objective?**"
      ],
      "metadata": {
        "id": "p2UPlJAqlx9N"
      }
    },
    {
      "cell_type": "markdown",
      "source": [
        "***Improving efficiency and effectiveness of various logistics processes***"
      ],
      "metadata": {
        "id": "t5dD97oomdL1"
      }
    },
    {
      "cell_type": "markdown",
      "source": [
        "# **General Guidelines** : -  "
      ],
      "metadata": {
        "id": "pOMjHtKBmgb-"
      }
    },
    {
      "cell_type": "markdown",
      "source": [
        "1.   Well-structured, formatted, and commented code is required.\n",
        "2.   Exception Handling, Production Grade Code & Deployment Ready Code will be a plus. Those students will be awarded some additional credits.\n",
        "     \n",
        "     The additional credits will have advantages over other students during Star Student selection.\n",
        "       \n",
        "             [ Note: - Deployment Ready Code is defined as, the whole .ipynb notebook should be executable in one go\n",
        "                       without a single error logged. ]\n",
        "\n",
        "3.   Each and every logic should have proper comments.\n",
        "4. You may add as many number of charts you want. Make Sure for each and every chart the following format should be answered.\n",
        "        \n",
        "\n",
        "```\n",
        "# Chart visualization code\n",
        "```\n",
        "            \n",
        "\n",
        "*   Why did you pick the specific chart?\n",
        "*   What is/are the insight(s) found from the chart?\n",
        "* Will the gained insights help creating a positive business impact?\n",
        "Are there any insights that lead to negative growth? Justify with specific reason.\n",
        "\n",
        "\n",
        "5. You have to create at least 20 logical & meaningful charts having important insights.\n",
        "\n",
        "[ Hints : - Do the Vizualization in  a structured way while following \"UBM\" Rule.\n",
        "\n",
        "U - Univariate Analysis,\n",
        "\n",
        "B - Bivariate Analysis (Numerical - Categorical, Numerical - Numerical, Categorical - Categorical)\n",
        "\n",
        "M - Multivariate Analysis\n",
        " ]"
      ],
      "metadata": {
        "id": "TpvJXsuPmkpD"
      }
    },
    {
      "cell_type": "markdown",
      "source": [
        "# ***Let's Begin !***"
      ],
      "metadata": {
        "id": "68qakPLKqVwu"
      }
    },
    {
      "cell_type": "markdown",
      "source": [
        "## ***1. Know Your Data***"
      ],
      "metadata": {
        "id": "yEAnc5w3qaLE"
      }
    },
    {
      "cell_type": "markdown",
      "source": [
        "### Import Libraries"
      ],
      "metadata": {
        "id": "U_1EfhP6qjOm"
      }
    },
    {
      "cell_type": "code",
      "source": [
        "# Import Libraries\n",
        "import numpy as np\n",
        "import pandas as pd\n",
        "from numpy import math\n",
        "from numpy import loadtxt\n",
        "import seaborn as sns\n",
        "import matplotlib.pyplot as plt\n",
        "%matplotlib inline\n",
        "from matplotlib import rcParams"
      ],
      "metadata": {
        "id": "jw2zfOc3qx-J"
      },
      "execution_count": 4,
      "outputs": []
    },
    {
      "cell_type": "markdown",
      "source": [
        "### Dataset Loading"
      ],
      "metadata": {
        "id": "t7MsgwuLq63v"
      }
    },
    {
      "cell_type": "code",
      "source": [
        "# Importing the dataset\n",
        "from google.colab import drive\n",
        "drive.mount('/content/drive')\n",
        "\n",
        "dataset = pd.read_csv('/content/drive/My Drive/SCMS_Delivery_History_Dataset.csv')"
      ],
      "metadata": {
        "colab": {
          "base_uri": "https://localhost:8080/"
        },
        "id": "l_tvcv73q-2f",
        "outputId": "6f2fe472-5b6f-42d8-8faa-3fabb689992b"
      },
      "execution_count": 10,
      "outputs": [
        {
          "output_type": "stream",
          "name": "stdout",
          "text": [
            "Drive already mounted at /content/drive; to attempt to forcibly remount, call drive.mount(\"/content/drive\", force_remount=True).\n"
          ]
        }
      ]
    },
    {
      "cell_type": "markdown",
      "source": [
        "### Dataset First View"
      ],
      "metadata": {
        "id": "Lw9puH2DuP5s"
      }
    },
    {
      "cell_type": "code",
      "source": [
        "# Dataset First\n",
        "dataset.head()"
      ],
      "metadata": {
        "colab": {
          "base_uri": "https://localhost:8080/",
          "height": 406
        },
        "id": "RkZBprOzuSmk",
        "outputId": "ae52c4ef-96d7-41a1-a5c9-44c78fda44bd"
      },
      "execution_count": 11,
      "outputs": [
        {
          "output_type": "execute_result",
          "data": {
            "text/plain": [
              "   ID Project Code            PQ # PO / SO # ASN/DN #        Country  \\\n",
              "0   1   100-CI-T01  Pre-PQ Process    SCMS-4    ASN-8  Côte d'Ivoire   \n",
              "1   3   108-VN-T01  Pre-PQ Process   SCMS-13   ASN-85        Vietnam   \n",
              "2   4   100-CI-T01  Pre-PQ Process   SCMS-20   ASN-14  Côte d'Ivoire   \n",
              "3  15   108-VN-T01  Pre-PQ Process   SCMS-78   ASN-50        Vietnam   \n",
              "4  16   108-VN-T01  Pre-PQ Process   SCMS-81   ASN-55        Vietnam   \n",
              "\n",
              "  Managed By  Fulfill Via Vendor INCO Term Shipment Mode  ...  \\\n",
              "0   PMO - US  Direct Drop              EXW           Air  ...   \n",
              "1   PMO - US  Direct Drop              EXW           Air  ...   \n",
              "2   PMO - US  Direct Drop              FCA           Air  ...   \n",
              "3   PMO - US  Direct Drop              EXW           Air  ...   \n",
              "4   PMO - US  Direct Drop              EXW           Air  ...   \n",
              "\n",
              "  Unit of Measure (Per Pack) Line Item Quantity Line Item Value Pack Price  \\\n",
              "0                         30                 19           551.0      29.00   \n",
              "1                        240               1000          6200.0       6.20   \n",
              "2                        100                500         40000.0      80.00   \n",
              "3                         60              31920        127360.8       3.99   \n",
              "4                         60              38000        121600.0       3.20   \n",
              "\n",
              "  Unit Price             Manufacturing Site First Line Designation  \\\n",
              "0       0.97     Ranbaxy Fine Chemicals LTD                    Yes   \n",
              "1       0.03      Aurobindo Unit III, India                    Yes   \n",
              "2       0.80  ABBVIE GmbH & Co.KG Wiesbaden                    Yes   \n",
              "3       0.07  Ranbaxy, Paonta Shahib, India                    Yes   \n",
              "4       0.05      Aurobindo Unit III, India                    Yes   \n",
              "\n",
              "  Weight (Kilograms) Freight Cost (USD) Line Item Insurance (USD)  \n",
              "0                 13             780.34                       NaN  \n",
              "1                358             4521.5                       NaN  \n",
              "2                171            1653.78                       NaN  \n",
              "3               1855           16007.06                       NaN  \n",
              "4               7590           45450.08                       NaN  \n",
              "\n",
              "[5 rows x 33 columns]"
            ],
            "text/html": [
              "\n",
              "  <div id=\"df-5350d8bf-5908-4f6c-8e23-965bd6f35adb\" class=\"colab-df-container\">\n",
              "    <div>\n",
              "<style scoped>\n",
              "    .dataframe tbody tr th:only-of-type {\n",
              "        vertical-align: middle;\n",
              "    }\n",
              "\n",
              "    .dataframe tbody tr th {\n",
              "        vertical-align: top;\n",
              "    }\n",
              "\n",
              "    .dataframe thead th {\n",
              "        text-align: right;\n",
              "    }\n",
              "</style>\n",
              "<table border=\"1\" class=\"dataframe\">\n",
              "  <thead>\n",
              "    <tr style=\"text-align: right;\">\n",
              "      <th></th>\n",
              "      <th>ID</th>\n",
              "      <th>Project Code</th>\n",
              "      <th>PQ #</th>\n",
              "      <th>PO / SO #</th>\n",
              "      <th>ASN/DN #</th>\n",
              "      <th>Country</th>\n",
              "      <th>Managed By</th>\n",
              "      <th>Fulfill Via</th>\n",
              "      <th>Vendor INCO Term</th>\n",
              "      <th>Shipment Mode</th>\n",
              "      <th>...</th>\n",
              "      <th>Unit of Measure (Per Pack)</th>\n",
              "      <th>Line Item Quantity</th>\n",
              "      <th>Line Item Value</th>\n",
              "      <th>Pack Price</th>\n",
              "      <th>Unit Price</th>\n",
              "      <th>Manufacturing Site</th>\n",
              "      <th>First Line Designation</th>\n",
              "      <th>Weight (Kilograms)</th>\n",
              "      <th>Freight Cost (USD)</th>\n",
              "      <th>Line Item Insurance (USD)</th>\n",
              "    </tr>\n",
              "  </thead>\n",
              "  <tbody>\n",
              "    <tr>\n",
              "      <th>0</th>\n",
              "      <td>1</td>\n",
              "      <td>100-CI-T01</td>\n",
              "      <td>Pre-PQ Process</td>\n",
              "      <td>SCMS-4</td>\n",
              "      <td>ASN-8</td>\n",
              "      <td>Côte d'Ivoire</td>\n",
              "      <td>PMO - US</td>\n",
              "      <td>Direct Drop</td>\n",
              "      <td>EXW</td>\n",
              "      <td>Air</td>\n",
              "      <td>...</td>\n",
              "      <td>30</td>\n",
              "      <td>19</td>\n",
              "      <td>551.0</td>\n",
              "      <td>29.00</td>\n",
              "      <td>0.97</td>\n",
              "      <td>Ranbaxy Fine Chemicals LTD</td>\n",
              "      <td>Yes</td>\n",
              "      <td>13</td>\n",
              "      <td>780.34</td>\n",
              "      <td>NaN</td>\n",
              "    </tr>\n",
              "    <tr>\n",
              "      <th>1</th>\n",
              "      <td>3</td>\n",
              "      <td>108-VN-T01</td>\n",
              "      <td>Pre-PQ Process</td>\n",
              "      <td>SCMS-13</td>\n",
              "      <td>ASN-85</td>\n",
              "      <td>Vietnam</td>\n",
              "      <td>PMO - US</td>\n",
              "      <td>Direct Drop</td>\n",
              "      <td>EXW</td>\n",
              "      <td>Air</td>\n",
              "      <td>...</td>\n",
              "      <td>240</td>\n",
              "      <td>1000</td>\n",
              "      <td>6200.0</td>\n",
              "      <td>6.20</td>\n",
              "      <td>0.03</td>\n",
              "      <td>Aurobindo Unit III, India</td>\n",
              "      <td>Yes</td>\n",
              "      <td>358</td>\n",
              "      <td>4521.5</td>\n",
              "      <td>NaN</td>\n",
              "    </tr>\n",
              "    <tr>\n",
              "      <th>2</th>\n",
              "      <td>4</td>\n",
              "      <td>100-CI-T01</td>\n",
              "      <td>Pre-PQ Process</td>\n",
              "      <td>SCMS-20</td>\n",
              "      <td>ASN-14</td>\n",
              "      <td>Côte d'Ivoire</td>\n",
              "      <td>PMO - US</td>\n",
              "      <td>Direct Drop</td>\n",
              "      <td>FCA</td>\n",
              "      <td>Air</td>\n",
              "      <td>...</td>\n",
              "      <td>100</td>\n",
              "      <td>500</td>\n",
              "      <td>40000.0</td>\n",
              "      <td>80.00</td>\n",
              "      <td>0.80</td>\n",
              "      <td>ABBVIE GmbH &amp; Co.KG Wiesbaden</td>\n",
              "      <td>Yes</td>\n",
              "      <td>171</td>\n",
              "      <td>1653.78</td>\n",
              "      <td>NaN</td>\n",
              "    </tr>\n",
              "    <tr>\n",
              "      <th>3</th>\n",
              "      <td>15</td>\n",
              "      <td>108-VN-T01</td>\n",
              "      <td>Pre-PQ Process</td>\n",
              "      <td>SCMS-78</td>\n",
              "      <td>ASN-50</td>\n",
              "      <td>Vietnam</td>\n",
              "      <td>PMO - US</td>\n",
              "      <td>Direct Drop</td>\n",
              "      <td>EXW</td>\n",
              "      <td>Air</td>\n",
              "      <td>...</td>\n",
              "      <td>60</td>\n",
              "      <td>31920</td>\n",
              "      <td>127360.8</td>\n",
              "      <td>3.99</td>\n",
              "      <td>0.07</td>\n",
              "      <td>Ranbaxy, Paonta Shahib, India</td>\n",
              "      <td>Yes</td>\n",
              "      <td>1855</td>\n",
              "      <td>16007.06</td>\n",
              "      <td>NaN</td>\n",
              "    </tr>\n",
              "    <tr>\n",
              "      <th>4</th>\n",
              "      <td>16</td>\n",
              "      <td>108-VN-T01</td>\n",
              "      <td>Pre-PQ Process</td>\n",
              "      <td>SCMS-81</td>\n",
              "      <td>ASN-55</td>\n",
              "      <td>Vietnam</td>\n",
              "      <td>PMO - US</td>\n",
              "      <td>Direct Drop</td>\n",
              "      <td>EXW</td>\n",
              "      <td>Air</td>\n",
              "      <td>...</td>\n",
              "      <td>60</td>\n",
              "      <td>38000</td>\n",
              "      <td>121600.0</td>\n",
              "      <td>3.20</td>\n",
              "      <td>0.05</td>\n",
              "      <td>Aurobindo Unit III, India</td>\n",
              "      <td>Yes</td>\n",
              "      <td>7590</td>\n",
              "      <td>45450.08</td>\n",
              "      <td>NaN</td>\n",
              "    </tr>\n",
              "  </tbody>\n",
              "</table>\n",
              "<p>5 rows × 33 columns</p>\n",
              "</div>\n",
              "    <div class=\"colab-df-buttons\">\n",
              "\n",
              "  <div class=\"colab-df-container\">\n",
              "    <button class=\"colab-df-convert\" onclick=\"convertToInteractive('df-5350d8bf-5908-4f6c-8e23-965bd6f35adb')\"\n",
              "            title=\"Convert this dataframe to an interactive table.\"\n",
              "            style=\"display:none;\">\n",
              "\n",
              "  <svg xmlns=\"http://www.w3.org/2000/svg\" height=\"24px\" viewBox=\"0 -960 960 960\">\n",
              "    <path d=\"M120-120v-720h720v720H120Zm60-500h600v-160H180v160Zm220 220h160v-160H400v160Zm0 220h160v-160H400v160ZM180-400h160v-160H180v160Zm440 0h160v-160H620v160ZM180-180h160v-160H180v160Zm440 0h160v-160H620v160Z\"/>\n",
              "  </svg>\n",
              "    </button>\n",
              "\n",
              "  <style>\n",
              "    .colab-df-container {\n",
              "      display:flex;\n",
              "      gap: 12px;\n",
              "    }\n",
              "\n",
              "    .colab-df-convert {\n",
              "      background-color: #E8F0FE;\n",
              "      border: none;\n",
              "      border-radius: 50%;\n",
              "      cursor: pointer;\n",
              "      display: none;\n",
              "      fill: #1967D2;\n",
              "      height: 32px;\n",
              "      padding: 0 0 0 0;\n",
              "      width: 32px;\n",
              "    }\n",
              "\n",
              "    .colab-df-convert:hover {\n",
              "      background-color: #E2EBFA;\n",
              "      box-shadow: 0px 1px 2px rgba(60, 64, 67, 0.3), 0px 1px 3px 1px rgba(60, 64, 67, 0.15);\n",
              "      fill: #174EA6;\n",
              "    }\n",
              "\n",
              "    .colab-df-buttons div {\n",
              "      margin-bottom: 4px;\n",
              "    }\n",
              "\n",
              "    [theme=dark] .colab-df-convert {\n",
              "      background-color: #3B4455;\n",
              "      fill: #D2E3FC;\n",
              "    }\n",
              "\n",
              "    [theme=dark] .colab-df-convert:hover {\n",
              "      background-color: #434B5C;\n",
              "      box-shadow: 0px 1px 3px 1px rgba(0, 0, 0, 0.15);\n",
              "      filter: drop-shadow(0px 1px 2px rgba(0, 0, 0, 0.3));\n",
              "      fill: #FFFFFF;\n",
              "    }\n",
              "  </style>\n",
              "\n",
              "    <script>\n",
              "      const buttonEl =\n",
              "        document.querySelector('#df-5350d8bf-5908-4f6c-8e23-965bd6f35adb button.colab-df-convert');\n",
              "      buttonEl.style.display =\n",
              "        google.colab.kernel.accessAllowed ? 'block' : 'none';\n",
              "\n",
              "      async function convertToInteractive(key) {\n",
              "        const element = document.querySelector('#df-5350d8bf-5908-4f6c-8e23-965bd6f35adb');\n",
              "        const dataTable =\n",
              "          await google.colab.kernel.invokeFunction('convertToInteractive',\n",
              "                                                    [key], {});\n",
              "        if (!dataTable) return;\n",
              "\n",
              "        const docLinkHtml = 'Like what you see? Visit the ' +\n",
              "          '<a target=\"_blank\" href=https://colab.research.google.com/notebooks/data_table.ipynb>data table notebook</a>'\n",
              "          + ' to learn more about interactive tables.';\n",
              "        element.innerHTML = '';\n",
              "        dataTable['output_type'] = 'display_data';\n",
              "        await google.colab.output.renderOutput(dataTable, element);\n",
              "        const docLink = document.createElement('div');\n",
              "        docLink.innerHTML = docLinkHtml;\n",
              "        element.appendChild(docLink);\n",
              "      }\n",
              "    </script>\n",
              "  </div>\n",
              "\n",
              "\n",
              "<div id=\"df-58954c06-3436-4ed4-b07e-023cf4f0ecfb\">\n",
              "  <button class=\"colab-df-quickchart\" onclick=\"quickchart('df-58954c06-3436-4ed4-b07e-023cf4f0ecfb')\"\n",
              "            title=\"Suggest charts\"\n",
              "            style=\"display:none;\">\n",
              "\n",
              "<svg xmlns=\"http://www.w3.org/2000/svg\" height=\"24px\"viewBox=\"0 0 24 24\"\n",
              "     width=\"24px\">\n",
              "    <g>\n",
              "        <path d=\"M19 3H5c-1.1 0-2 .9-2 2v14c0 1.1.9 2 2 2h14c1.1 0 2-.9 2-2V5c0-1.1-.9-2-2-2zM9 17H7v-7h2v7zm4 0h-2V7h2v10zm4 0h-2v-4h2v4z\"/>\n",
              "    </g>\n",
              "</svg>\n",
              "  </button>\n",
              "\n",
              "<style>\n",
              "  .colab-df-quickchart {\n",
              "      --bg-color: #E8F0FE;\n",
              "      --fill-color: #1967D2;\n",
              "      --hover-bg-color: #E2EBFA;\n",
              "      --hover-fill-color: #174EA6;\n",
              "      --disabled-fill-color: #AAA;\n",
              "      --disabled-bg-color: #DDD;\n",
              "  }\n",
              "\n",
              "  [theme=dark] .colab-df-quickchart {\n",
              "      --bg-color: #3B4455;\n",
              "      --fill-color: #D2E3FC;\n",
              "      --hover-bg-color: #434B5C;\n",
              "      --hover-fill-color: #FFFFFF;\n",
              "      --disabled-bg-color: #3B4455;\n",
              "      --disabled-fill-color: #666;\n",
              "  }\n",
              "\n",
              "  .colab-df-quickchart {\n",
              "    background-color: var(--bg-color);\n",
              "    border: none;\n",
              "    border-radius: 50%;\n",
              "    cursor: pointer;\n",
              "    display: none;\n",
              "    fill: var(--fill-color);\n",
              "    height: 32px;\n",
              "    padding: 0;\n",
              "    width: 32px;\n",
              "  }\n",
              "\n",
              "  .colab-df-quickchart:hover {\n",
              "    background-color: var(--hover-bg-color);\n",
              "    box-shadow: 0 1px 2px rgba(60, 64, 67, 0.3), 0 1px 3px 1px rgba(60, 64, 67, 0.15);\n",
              "    fill: var(--button-hover-fill-color);\n",
              "  }\n",
              "\n",
              "  .colab-df-quickchart-complete:disabled,\n",
              "  .colab-df-quickchart-complete:disabled:hover {\n",
              "    background-color: var(--disabled-bg-color);\n",
              "    fill: var(--disabled-fill-color);\n",
              "    box-shadow: none;\n",
              "  }\n",
              "\n",
              "  .colab-df-spinner {\n",
              "    border: 2px solid var(--fill-color);\n",
              "    border-color: transparent;\n",
              "    border-bottom-color: var(--fill-color);\n",
              "    animation:\n",
              "      spin 1s steps(1) infinite;\n",
              "  }\n",
              "\n",
              "  @keyframes spin {\n",
              "    0% {\n",
              "      border-color: transparent;\n",
              "      border-bottom-color: var(--fill-color);\n",
              "      border-left-color: var(--fill-color);\n",
              "    }\n",
              "    20% {\n",
              "      border-color: transparent;\n",
              "      border-left-color: var(--fill-color);\n",
              "      border-top-color: var(--fill-color);\n",
              "    }\n",
              "    30% {\n",
              "      border-color: transparent;\n",
              "      border-left-color: var(--fill-color);\n",
              "      border-top-color: var(--fill-color);\n",
              "      border-right-color: var(--fill-color);\n",
              "    }\n",
              "    40% {\n",
              "      border-color: transparent;\n",
              "      border-right-color: var(--fill-color);\n",
              "      border-top-color: var(--fill-color);\n",
              "    }\n",
              "    60% {\n",
              "      border-color: transparent;\n",
              "      border-right-color: var(--fill-color);\n",
              "    }\n",
              "    80% {\n",
              "      border-color: transparent;\n",
              "      border-right-color: var(--fill-color);\n",
              "      border-bottom-color: var(--fill-color);\n",
              "    }\n",
              "    90% {\n",
              "      border-color: transparent;\n",
              "      border-bottom-color: var(--fill-color);\n",
              "    }\n",
              "  }\n",
              "</style>\n",
              "\n",
              "  <script>\n",
              "    async function quickchart(key) {\n",
              "      const quickchartButtonEl =\n",
              "        document.querySelector('#' + key + ' button');\n",
              "      quickchartButtonEl.disabled = true;  // To prevent multiple clicks.\n",
              "      quickchartButtonEl.classList.add('colab-df-spinner');\n",
              "      try {\n",
              "        const charts = await google.colab.kernel.invokeFunction(\n",
              "            'suggestCharts', [key], {});\n",
              "      } catch (error) {\n",
              "        console.error('Error during call to suggestCharts:', error);\n",
              "      }\n",
              "      quickchartButtonEl.classList.remove('colab-df-spinner');\n",
              "      quickchartButtonEl.classList.add('colab-df-quickchart-complete');\n",
              "    }\n",
              "    (() => {\n",
              "      let quickchartButtonEl =\n",
              "        document.querySelector('#df-58954c06-3436-4ed4-b07e-023cf4f0ecfb button');\n",
              "      quickchartButtonEl.style.display =\n",
              "        google.colab.kernel.accessAllowed ? 'block' : 'none';\n",
              "    })();\n",
              "  </script>\n",
              "</div>\n",
              "\n",
              "    </div>\n",
              "  </div>\n"
            ],
            "application/vnd.google.colaboratory.intrinsic+json": {
              "type": "dataframe",
              "variable_name": "dataset"
            }
          },
          "metadata": {},
          "execution_count": 11
        }
      ]
    },
    {
      "cell_type": "markdown",
      "source": [
        "### Dataset Rows & Columns count"
      ],
      "metadata": {
        "id": "abXw-iUmubUx"
      }
    },
    {
      "cell_type": "code",
      "source": [
        "# Dataset Rows & Columns\n",
        "dataset.shape"
      ],
      "metadata": {
        "colab": {
          "base_uri": "https://localhost:8080/"
        },
        "id": "C1GKAV2HueLG",
        "outputId": "c0e3dee8-e0d0-4057-e7a2-acff49b48243"
      },
      "execution_count": 12,
      "outputs": [
        {
          "output_type": "execute_result",
          "data": {
            "text/plain": [
              "(10324, 33)"
            ]
          },
          "metadata": {},
          "execution_count": 12
        }
      ]
    },
    {
      "cell_type": "markdown",
      "source": [
        "### Dataset Information"
      ],
      "metadata": {
        "id": "XW2CeESwuiD0"
      }
    },
    {
      "cell_type": "code",
      "source": [
        "# Dataset Info\n",
        "dataset.info()"
      ],
      "metadata": {
        "colab": {
          "base_uri": "https://localhost:8080/"
        },
        "id": "uW5ZLTfyule3",
        "outputId": "b1140d38-37b2-45d9-fffe-718ffe12495a"
      },
      "execution_count": 13,
      "outputs": [
        {
          "output_type": "stream",
          "name": "stdout",
          "text": [
            "<class 'pandas.core.frame.DataFrame'>\n",
            "RangeIndex: 10324 entries, 0 to 10323\n",
            "Data columns (total 33 columns):\n",
            " #   Column                        Non-Null Count  Dtype  \n",
            "---  ------                        --------------  -----  \n",
            " 0   ID                            10324 non-null  int64  \n",
            " 1   Project Code                  10324 non-null  object \n",
            " 2   PQ #                          10324 non-null  object \n",
            " 3   PO / SO #                     10324 non-null  object \n",
            " 4   ASN/DN #                      10324 non-null  object \n",
            " 5   Country                       10324 non-null  object \n",
            " 6   Managed By                    10324 non-null  object \n",
            " 7   Fulfill Via                   10324 non-null  object \n",
            " 8   Vendor INCO Term              10324 non-null  object \n",
            " 9   Shipment Mode                 9964 non-null   object \n",
            " 10  PQ First Sent to Client Date  10324 non-null  object \n",
            " 11  PO Sent to Vendor Date        10324 non-null  object \n",
            " 12  Scheduled Delivery Date       10324 non-null  object \n",
            " 13  Delivered to Client Date      10324 non-null  object \n",
            " 14  Delivery Recorded Date        10324 non-null  object \n",
            " 15  Product Group                 10324 non-null  object \n",
            " 16  Sub Classification            10324 non-null  object \n",
            " 17  Vendor                        10324 non-null  object \n",
            " 18  Item Description              10324 non-null  object \n",
            " 19  Molecule/Test Type            10324 non-null  object \n",
            " 20  Brand                         10324 non-null  object \n",
            " 21  Dosage                        8588 non-null   object \n",
            " 22  Dosage Form                   10324 non-null  object \n",
            " 23  Unit of Measure (Per Pack)    10324 non-null  int64  \n",
            " 24  Line Item Quantity            10324 non-null  int64  \n",
            " 25  Line Item Value               10324 non-null  float64\n",
            " 26  Pack Price                    10324 non-null  float64\n",
            " 27  Unit Price                    10324 non-null  float64\n",
            " 28  Manufacturing Site            10324 non-null  object \n",
            " 29  First Line Designation        10324 non-null  object \n",
            " 30  Weight (Kilograms)            10324 non-null  object \n",
            " 31  Freight Cost (USD)            10324 non-null  object \n",
            " 32  Line Item Insurance (USD)     10037 non-null  float64\n",
            "dtypes: float64(4), int64(3), object(26)\n",
            "memory usage: 2.6+ MB\n"
          ]
        }
      ]
    },
    {
      "cell_type": "markdown",
      "source": [
        "#### Duplicate Values"
      ],
      "metadata": {
        "id": "_wVPl1Cvuua_"
      }
    },
    {
      "cell_type": "code",
      "source": [
        "# Dataset Duplicate Value Count\n",
        "len(dataset[dataset.duplicated()])"
      ],
      "metadata": {
        "colab": {
          "base_uri": "https://localhost:8080/"
        },
        "id": "dtAHJJCTuvKj",
        "outputId": "2321866c-3bda-44f8-99db-0ac416df69b1"
      },
      "execution_count": 14,
      "outputs": [
        {
          "output_type": "execute_result",
          "data": {
            "text/plain": [
              "0"
            ]
          },
          "metadata": {},
          "execution_count": 14
        }
      ]
    },
    {
      "cell_type": "markdown",
      "source": [
        "#### Missing Values/Null Values"
      ],
      "metadata": {
        "id": "uM-WJ2Pguy-i"
      }
    },
    {
      "cell_type": "code",
      "source": [
        "# Missing Values/Null Values Count\n",
        "print(dataset.isnull().sum())"
      ],
      "metadata": {
        "colab": {
          "base_uri": "https://localhost:8080/"
        },
        "id": "ZO7I3-Zeu4M4",
        "outputId": "7710872f-cd80-4b1b-f40d-7232320b111b"
      },
      "execution_count": 15,
      "outputs": [
        {
          "output_type": "stream",
          "name": "stdout",
          "text": [
            "ID                                 0\n",
            "Project Code                       0\n",
            "PQ #                               0\n",
            "PO / SO #                          0\n",
            "ASN/DN #                           0\n",
            "Country                            0\n",
            "Managed By                         0\n",
            "Fulfill Via                        0\n",
            "Vendor INCO Term                   0\n",
            "Shipment Mode                    360\n",
            "PQ First Sent to Client Date       0\n",
            "PO Sent to Vendor Date             0\n",
            "Scheduled Delivery Date            0\n",
            "Delivered to Client Date           0\n",
            "Delivery Recorded Date             0\n",
            "Product Group                      0\n",
            "Sub Classification                 0\n",
            "Vendor                             0\n",
            "Item Description                   0\n",
            "Molecule/Test Type                 0\n",
            "Brand                              0\n",
            "Dosage                          1736\n",
            "Dosage Form                        0\n",
            "Unit of Measure (Per Pack)         0\n",
            "Line Item Quantity                 0\n",
            "Line Item Value                    0\n",
            "Pack Price                         0\n",
            "Unit Price                         0\n",
            "Manufacturing Site                 0\n",
            "First Line Designation             0\n",
            "Weight (Kilograms)                 0\n",
            "Freight Cost (USD)                 0\n",
            "Line Item Insurance (USD)        287\n",
            "dtype: int64\n"
          ]
        }
      ]
    },
    {
      "cell_type": "code",
      "source": [
        "# Visualizing the missing values\n",
        "# Checking Null Value by plotting Heatmap\n",
        "sns.heatmap(dataset.isnull(), cbar=False)"
      ],
      "metadata": {
        "colab": {
          "base_uri": "https://localhost:8080/",
          "height": 629
        },
        "id": "s9uPshrAvHyw",
        "outputId": "af520ef3-2670-4271-e3e0-10eb779a1356"
      },
      "execution_count": 16,
      "outputs": [
        {
          "output_type": "execute_result",
          "data": {
            "text/plain": [
              "<Axes: >"
            ]
          },
          "metadata": {},
          "execution_count": 16
        },
        {
          "output_type": "display_data",
          "data": {
            "text/plain": [
              "<Figure size 640x480 with 1 Axes>"
            ],
            "image/png": "[encoded data removed]"
          },
          "metadata": {}
        }
      ]
    },
    {
      "cell_type": "markdown",
      "source": [
        "### What did you know about your dataset?"
      ],
      "metadata": {
        "id": "SZmVxfolvMgc"
      }
    },
    {
      "cell_type": "markdown",
      "source": [
        "The dataset given is a dataset from Logistics industry.\n",
        "\n",
        "This project focuses on analyzing the performance of a logistics operation. The goal is to evaluate the efficiency and effectiveness of various logistics processes, identify areas for improvement, and provide data-driven recommendations to optimize operations and reduce costs.\n",
        "\n",
        "The above dataset has 10324 rows and 33 columns. There are no duplicate values in the dataset. But there are 360 missing values in 'Shipment Mode' column, 1736 missing values in 'Dosage' column, 287 missing values in 'Line Item Insurance (USD)' column."
      ],
      "metadata": {
        "id": "39WPcmxBvPQG"
      }
    }
  ]
}