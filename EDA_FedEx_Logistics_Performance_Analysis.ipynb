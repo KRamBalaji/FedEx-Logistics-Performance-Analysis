{
  "nbformat": 4,
  "nbformat_minor": 0,
  "metadata": {
    "colab": {
      "provenance": [],
      "authorship_tag": "ABX9TyMVV+1Drk3ETqHc2ikWqRUv",
      "include_colab_link": true
    },
    "kernelspec": {
      "name": "python3",
      "display_name": "Python 3"
    },
    "language_info": {
      "name": "python"
    }
  },
  "cells": [
    {
      "cell_type": "markdown",
      "metadata": {
        "id": "view-in-github",
        "colab_type": "text"
      },
      "source": [
        "<a href=\"https://colab.research.google.com/github/KRamBalaji/FedEx-Logistics-Performance-Analysis/blob/main/EDA_FedEx_Logistics_Performance_Analysis.ipynb\" target=\"_parent\"><img src=\"https://colab.research.google.com/assets/colab-badge.svg\" alt=\"Open In Colab\"/></a>"
      ]
    },
    {
      "cell_type": "markdown",
      "source": [
        "# **Project Name**    - **FedEx Logistics Performance Analysis**"
      ],
      "metadata": {
        "id": "MaOLelNRmaNN"
      }
    },
    {
      "cell_type": "markdown",
      "source": [
        "\n",
        "##### **Project Type**    - EDA\n",
        "##### **Contribution**    - Individual/Team\n",
        "\n"
      ],
      "metadata": {
        "id": "HuYYxOMtmpLF"
      }
    },
    {
      "cell_type": "markdown",
      "source": [
        "# **Project Summary -**"
      ],
      "metadata": {
        "id": "0nax05A9oLwK"
      }
    },
    {
      "cell_type": "markdown",
      "source": [],
      "metadata": {
        "id": "99t6Q4qdoRwn"
      }
    },
    {
      "cell_type": "markdown",
      "source": [
        "#### **Define Your Business Objective?**"
      ],
      "metadata": {
        "id": "p2UPlJAqlx9N"
      }
    },
    {
      "cell_type": "markdown",
      "source": [
        "***Improving efficiency and effectiveness of various logistics processes***"
      ],
      "metadata": {
        "id": "t5dD97oomdL1"
      }
    },
    {
      "cell_type": "markdown",
      "source": [
        "# **General Guidelines** : -  "
      ],
      "metadata": {
        "id": "pOMjHtKBmgb-"
      }
    },
    {
      "cell_type": "markdown",
      "source": [
        "1.   Well-structured, formatted, and commented code is required.\n",
        "2.   Exception Handling, Production Grade Code & Deployment Ready Code will be a plus. Those students will be awarded some additional credits.\n",
        "     \n",
        "     The additional credits will have advantages over other students during Star Student selection.\n",
        "       \n",
        "             [ Note: - Deployment Ready Code is defined as, the whole .ipynb notebook should be executable in one go\n",
        "                       without a single error logged. ]\n",
        "\n",
        "3.   Each and every logic should have proper comments.\n",
        "4. You may add as many number of charts you want. Make Sure for each and every chart the following format should be answered.\n",
        "        \n",
        "\n",
        "```\n",
        "# Chart visualization code\n",
        "```\n",
        "            \n",
        "\n",
        "*   Why did you pick the specific chart?\n",
        "*   What is/are the insight(s) found from the chart?\n",
        "* Will the gained insights help creating a positive business impact?\n",
        "Are there any insights that lead to negative growth? Justify with specific reason.\n",
        "\n",
        "\n",
        "5. You have to create at least 20 logical & meaningful charts having important insights.\n",
        "\n",
        "[ Hints : - Do the Vizualization in  a structured way while following \"UBM\" Rule.\n",
        "\n",
        "U - Univariate Analysis,\n",
        "\n",
        "B - Bivariate Analysis (Numerical - Categorical, Numerical - Numerical, Categorical - Categorical)\n",
        "\n",
        "M - Multivariate Analysis\n",
        " ]"
      ],
      "metadata": {
        "id": "TpvJXsuPmkpD"
      }
    },
    {
      "cell_type": "markdown",
      "source": [
        "# ***Let's Begin !***"
      ],
      "metadata": {
        "id": "68qakPLKqVwu"
      }
    },
    {
      "cell_type": "markdown",
      "source": [
        "## ***1. Know Your Data***"
      ],
      "metadata": {
        "id": "yEAnc5w3qaLE"
      }
    },
    {
      "cell_type": "markdown",
      "source": [
        "### Import Libraries"
      ],
      "metadata": {
        "id": "U_1EfhP6qjOm"
      }
    },
    {
      "cell_type": "code",
      "source": [
        "# Import Libraries\n",
        "import numpy as np\n",
        "import pandas as pd\n",
        "import math\n",
        "from numpy import loadtxt\n",
        "import seaborn as sns\n",
        "import matplotlib.pyplot as plt\n",
        "%matplotlib inline\n",
        "from matplotlib import rcParams"
      ],
      "metadata": {
        "id": "jw2zfOc3qx-J"
      },
      "execution_count": 25,
      "outputs": []
    },
    {
      "cell_type": "markdown",
      "source": [
        "### Dataset Loading"
      ],
      "metadata": {
        "id": "t7MsgwuLq63v"
      }
    },
    {
      "cell_type": "code",
      "source": [
        "# Importing the dataset\n",
        "from google.colab import drive\n",
        "drive.mount('/content/drive')\n",
        "\n",
        "dataset = pd.read_csv('/content/drive/My Drive/SCMS_Delivery_History_Dataset.csv')"
      ],
      "metadata": {
        "colab": {
          "base_uri": "https://localhost:8080/"
        },
        "id": "l_tvcv73q-2f",
        "outputId": "77433794-15f1-45f7-a972-3003e89c8330"
      },
      "execution_count": 26,
      "outputs": [
        {
          "output_type": "stream",
          "name": "stdout",
          "text": [
            "Drive already mounted at /content/drive; to attempt to forcibly remount, call drive.mount(\"/content/drive\", force_remount=True).\n"
          ]
        }
      ]
    },
    {
      "cell_type": "markdown",
      "source": [
        "### Dataset First View"
      ],
      "metadata": {
        "id": "Lw9puH2DuP5s"
      }
    },
    {
      "cell_type": "code",
      "source": [
        "# Dataset First\n",
        "dataset.head()"
      ],
      "metadata": {
        "colab": {
          "base_uri": "https://localhost:8080/",
          "height": 386
        },
        "id": "RkZBprOzuSmk",
        "outputId": "f86a712a-5d69-4f09-ff27-e99f186f578a"
      },
      "execution_count": 27,
      "outputs": [
        {
          "output_type": "execute_result",
          "data": {
            "text/plain": [
              "   ID Project Code            PQ # PO / SO # ASN/DN #        Country  \\\n",
              "0   1   100-CI-T01  Pre-PQ Process    SCMS-4    ASN-8  Côte d'Ivoire   \n",
              "1   3   108-VN-T01  Pre-PQ Process   SCMS-13   ASN-85        Vietnam   \n",
              "2   4   100-CI-T01  Pre-PQ Process   SCMS-20   ASN-14  Côte d'Ivoire   \n",
              "3  15   108-VN-T01  Pre-PQ Process   SCMS-78   ASN-50        Vietnam   \n",
              "4  16   108-VN-T01  Pre-PQ Process   SCMS-81   ASN-55        Vietnam   \n",
              "\n",
              "  Managed By  Fulfill Via Vendor INCO Term Shipment Mode  ...  \\\n",
              "0   PMO - US  Direct Drop              EXW           Air  ...   \n",
              "1   PMO - US  Direct Drop              EXW           Air  ...   \n",
              "2   PMO - US  Direct Drop              FCA           Air  ...   \n",
              "3   PMO - US  Direct Drop              EXW           Air  ...   \n",
              "4   PMO - US  Direct Drop              EXW           Air  ...   \n",
              "\n",
              "  Unit of Measure (Per Pack) Line Item Quantity Line Item Value Pack Price  \\\n",
              "0                         30                 19           551.0      29.00   \n",
              "1                        240               1000          6200.0       6.20   \n",
              "2                        100                500         40000.0      80.00   \n",
              "3                         60              31920        127360.8       3.99   \n",
              "4                         60              38000        121600.0       3.20   \n",
              "\n",
              "  Unit Price             Manufacturing Site First Line Designation  \\\n",
              "0       0.97     Ranbaxy Fine Chemicals LTD                    Yes   \n",
              "1       0.03      Aurobindo Unit III, India                    Yes   \n",
              "2       0.80  ABBVIE GmbH & Co.KG Wiesbaden                    Yes   \n",
              "3       0.07  Ranbaxy, Paonta Shahib, India                    Yes   \n",
              "4       0.05      Aurobindo Unit III, India                    Yes   \n",
              "\n",
              "  Weight (Kilograms) Freight Cost (USD) Line Item Insurance (USD)  \n",
              "0                 13             780.34                       NaN  \n",
              "1                358             4521.5                       NaN  \n",
              "2                171            1653.78                       NaN  \n",
              "3               1855           16007.06                       NaN  \n",
              "4               7590           45450.08                       NaN  \n",
              "\n",
              "[5 rows x 33 columns]"
            ],
            "text/html": [
              "\n",
              "  <div id=\"df-452e226e-b78c-4830-b983-ac707948e84b\" class=\"colab-df-container\">\n",
              "    <div>\n",
              "<style scoped>\n",
              "    .dataframe tbody tr th:only-of-type {\n",
              "        vertical-align: middle;\n",
              "    }\n",
              "\n",
              "    .dataframe tbody tr th {\n",
              "        vertical-align: top;\n",
              "    }\n",
              "\n",
              "    .dataframe thead th {\n",
              "        text-align: right;\n",
              "    }\n",
              "</style>\n",
              "<table border=\"1\" class=\"dataframe\">\n",
              "  <thead>\n",
              "    <tr style=\"text-align: right;\">\n",
              "      <th></th>\n",
              "      <th>ID</th>\n",
              "      <th>Project Code</th>\n",
              "      <th>PQ #</th>\n",
              "      <th>PO / SO #</th>\n",
              "      <th>ASN/DN #</th>\n",
              "      <th>Country</th>\n",
              "      <th>Managed By</th>\n",
              "      <th>Fulfill Via</th>\n",
              "      <th>Vendor INCO Term</th>\n",
              "      <th>Shipment Mode</th>\n",
              "      <th>...</th>\n",
              "      <th>Unit of Measure (Per Pack)</th>\n",
              "      <th>Line Item Quantity</th>\n",
              "      <th>Line Item Value</th>\n",
              "      <th>Pack Price</th>\n",
              "      <th>Unit Price</th>\n",
              "      <th>Manufacturing Site</th>\n",
              "      <th>First Line Designation</th>\n",
              "      <th>Weight (Kilograms)</th>\n",
              "      <th>Freight Cost (USD)</th>\n",
              "      <th>Line Item Insurance (USD)</th>\n",
              "    </tr>\n",
              "  </thead>\n",
              "  <tbody>\n",
              "    <tr>\n",
              "      <th>0</th>\n",
              "      <td>1</td>\n",
              "      <td>100-CI-T01</td>\n",
              "      <td>Pre-PQ Process</td>\n",
              "      <td>SCMS-4</td>\n",
              "      <td>ASN-8</td>\n",
              "      <td>Côte d'Ivoire</td>\n",
              "      <td>PMO - US</td>\n",
              "      <td>Direct Drop</td>\n",
              "      <td>EXW</td>\n",
              "      <td>Air</td>\n",
              "      <td>...</td>\n",
              "      <td>30</td>\n",
              "      <td>19</td>\n",
              "      <td>551.0</td>\n",
              "      <td>29.00</td>\n",
              "      <td>0.97</td>\n",
              "      <td>Ranbaxy Fine Chemicals LTD</td>\n",
              "      <td>Yes</td>\n",
              "      <td>13</td>\n",
              "      <td>780.34</td>\n",
              "      <td>NaN</td>\n",
              "    </tr>\n",
              "    <tr>\n",
              "      <th>1</th>\n",
              "      <td>3</td>\n",
              "      <td>108-VN-T01</td>\n",
              "      <td>Pre-PQ Process</td>\n",
              "      <td>SCMS-13</td>\n",
              "      <td>ASN-85</td>\n",
              "      <td>Vietnam</td>\n",
              "      <td>PMO - US</td>\n",
              "      <td>Direct Drop</td>\n",
              "      <td>EXW</td>\n",
              "      <td>Air</td>\n",
              "      <td>...</td>\n",
              "      <td>240</td>\n",
              "      <td>1000</td>\n",
              "      <td>6200.0</td>\n",
              "      <td>6.20</td>\n",
              "      <td>0.03</td>\n",
              "      <td>Aurobindo Unit III, India</td>\n",
              "      <td>Yes</td>\n",
              "      <td>358</td>\n",
              "      <td>4521.5</td>\n",
              "      <td>NaN</td>\n",
              "    </tr>\n",
              "    <tr>\n",
              "      <th>2</th>\n",
              "      <td>4</td>\n",
              "      <td>100-CI-T01</td>\n",
              "      <td>Pre-PQ Process</td>\n",
              "      <td>SCMS-20</td>\n",
              "      <td>ASN-14</td>\n",
              "      <td>Côte d'Ivoire</td>\n",
              "      <td>PMO - US</td>\n",
              "      <td>Direct Drop</td>\n",
              "      <td>FCA</td>\n",
              "      <td>Air</td>\n",
              "      <td>...</td>\n",
              "      <td>100</td>\n",
              "      <td>500</td>\n",
              "      <td>40000.0</td>\n",
              "      <td>80.00</td>\n",
              "      <td>0.80</td>\n",
              "      <td>ABBVIE GmbH &amp; Co.KG Wiesbaden</td>\n",
              "      <td>Yes</td>\n",
              "      <td>171</td>\n",
              "      <td>1653.78</td>\n",
              "      <td>NaN</td>\n",
              "    </tr>\n",
              "    <tr>\n",
              "      <th>3</th>\n",
              "      <td>15</td>\n",
              "      <td>108-VN-T01</td>\n",
              "      <td>Pre-PQ Process</td>\n",
              "      <td>SCMS-78</td>\n",
              "      <td>ASN-50</td>\n",
              "      <td>Vietnam</td>\n",
              "      <td>PMO - US</td>\n",
              "      <td>Direct Drop</td>\n",
              "      <td>EXW</td>\n",
              "      <td>Air</td>\n",
              "      <td>...</td>\n",
              "      <td>60</td>\n",
              "      <td>31920</td>\n",
              "      <td>127360.8</td>\n",
              "      <td>3.99</td>\n",
              "      <td>0.07</td>\n",
              "      <td>Ranbaxy, Paonta Shahib, India</td>\n",
              "      <td>Yes</td>\n",
              "      <td>1855</td>\n",
              "      <td>16007.06</td>\n",
              "      <td>NaN</td>\n",
              "    </tr>\n",
              "    <tr>\n",
              "      <th>4</th>\n",
              "      <td>16</td>\n",
              "      <td>108-VN-T01</td>\n",
              "      <td>Pre-PQ Process</td>\n",
              "      <td>SCMS-81</td>\n",
              "      <td>ASN-55</td>\n",
              "      <td>Vietnam</td>\n",
              "      <td>PMO - US</td>\n",
              "      <td>Direct Drop</td>\n",
              "      <td>EXW</td>\n",
              "      <td>Air</td>\n",
              "      <td>...</td>\n",
              "      <td>60</td>\n",
              "      <td>38000</td>\n",
              "      <td>121600.0</td>\n",
              "      <td>3.20</td>\n",
              "      <td>0.05</td>\n",
              "      <td>Aurobindo Unit III, India</td>\n",
              "      <td>Yes</td>\n",
              "      <td>7590</td>\n",
              "      <td>45450.08</td>\n",
              "      <td>NaN</td>\n",
              "    </tr>\n",
              "  </tbody>\n",
              "</table>\n",
              "<p>5 rows × 33 columns</p>\n",
              "</div>\n",
              "    <div class=\"colab-df-buttons\">\n",
              "\n",
              "  <div class=\"colab-df-container\">\n",
              "    <button class=\"colab-df-convert\" onclick=\"convertToInteractive('df-452e226e-b78c-4830-b983-ac707948e84b')\"\n",
              "            title=\"Convert this dataframe to an interactive table.\"\n",
              "            style=\"display:none;\">\n",
              "\n",
              "  <svg xmlns=\"http://www.w3.org/2000/svg\" height=\"24px\" viewBox=\"0 -960 960 960\">\n",
              "    <path d=\"M120-120v-720h720v720H120Zm60-500h600v-160H180v160Zm220 220h160v-160H400v160Zm0 220h160v-160H400v160ZM180-400h160v-160H180v160Zm440 0h160v-160H620v160ZM180-180h160v-160H180v160Zm440 0h160v-160H620v160Z\"/>\n",
              "  </svg>\n",
              "    </button>\n",
              "\n",
              "  <style>\n",
              "    .colab-df-container {\n",
              "      display:flex;\n",
              "      gap: 12px;\n",
              "    }\n",
              "\n",
              "    .colab-df-convert {\n",
              "      background-color: #E8F0FE;\n",
              "      border: none;\n",
              "      border-radius: 50%;\n",
              "      cursor: pointer;\n",
              "      display: none;\n",
              "      fill: #1967D2;\n",
              "      height: 32px;\n",
              "      padding: 0 0 0 0;\n",
              "      width: 32px;\n",
              "    }\n",
              "\n",
              "    .colab-df-convert:hover {\n",
              "      background-color: #E2EBFA;\n",
              "      box-shadow: 0px 1px 2px rgba(60, 64, 67, 0.3), 0px 1px 3px 1px rgba(60, 64, 67, 0.15);\n",
              "      fill: #174EA6;\n",
              "    }\n",
              "\n",
              "    .colab-df-buttons div {\n",
              "      margin-bottom: 4px;\n",
              "    }\n",
              "\n",
              "    [theme=dark] .colab-df-convert {\n",
              "      background-color: #3B4455;\n",
              "      fill: #D2E3FC;\n",
              "    }\n",
              "\n",
              "    [theme=dark] .colab-df-convert:hover {\n",
              "      background-color: #434B5C;\n",
              "      box-shadow: 0px 1px 3px 1px rgba(0, 0, 0, 0.15);\n",
              "      filter: drop-shadow(0px 1px 2px rgba(0, 0, 0, 0.3));\n",
              "      fill: #FFFFFF;\n",
              "    }\n",
              "  </style>\n",
              "\n",
              "    <script>\n",
              "      const buttonEl =\n",
              "        document.querySelector('#df-452e226e-b78c-4830-b983-ac707948e84b button.colab-df-convert');\n",
              "      buttonEl.style.display =\n",
              "        google.colab.kernel.accessAllowed ? 'block' : 'none';\n",
              "\n",
              "      async function convertToInteractive(key) {\n",
              "        const element = document.querySelector('#df-452e226e-b78c-4830-b983-ac707948e84b');\n",
              "        const dataTable =\n",
              "          await google.colab.kernel.invokeFunction('convertToInteractive',\n",
              "                                                    [key], {});\n",
              "        if (!dataTable) return;\n",
              "\n",
              "        const docLinkHtml = 'Like what you see? Visit the ' +\n",
              "          '<a target=\"_blank\" href=https://colab.research.google.com/notebooks/data_table.ipynb>data table notebook</a>'\n",
              "          + ' to learn more about interactive tables.';\n",
              "        element.innerHTML = '';\n",
              "        dataTable['output_type'] = 'display_data';\n",
              "        await google.colab.output.renderOutput(dataTable, element);\n",
              "        const docLink = document.createElement('div');\n",
              "        docLink.innerHTML = docLinkHtml;\n",
              "        element.appendChild(docLink);\n",
              "      }\n",
              "    </script>\n",
              "  </div>\n",
              "\n",
              "\n",
              "<div id=\"df-207238fc-cfcd-45a7-96a2-323d68ae25e5\">\n",
              "  <button class=\"colab-df-quickchart\" onclick=\"quickchart('df-207238fc-cfcd-45a7-96a2-323d68ae25e5')\"\n",
              "            title=\"Suggest charts\"\n",
              "            style=\"display:none;\">\n",
              "\n",
              "<svg xmlns=\"http://www.w3.org/2000/svg\" height=\"24px\"viewBox=\"0 0 24 24\"\n",
              "     width=\"24px\">\n",
              "    <g>\n",
              "        <path d=\"M19 3H5c-1.1 0-2 .9-2 2v14c0 1.1.9 2 2 2h14c1.1 0 2-.9 2-2V5c0-1.1-.9-2-2-2zM9 17H7v-7h2v7zm4 0h-2V7h2v10zm4 0h-2v-4h2v4z\"/>\n",
              "    </g>\n",
              "</svg>\n",
              "  </button>\n",
              "\n",
              "<style>\n",
              "  .colab-df-quickchart {\n",
              "      --bg-color: #E8F0FE;\n",
              "      --fill-color: #1967D2;\n",
              "      --hover-bg-color: #E2EBFA;\n",
              "      --hover-fill-color: #174EA6;\n",
              "      --disabled-fill-color: #AAA;\n",
              "      --disabled-bg-color: #DDD;\n",
              "  }\n",
              "\n",
              "  [theme=dark] .colab-df-quickchart {\n",
              "      --bg-color: #3B4455;\n",
              "      --fill-color: #D2E3FC;\n",
              "      --hover-bg-color: #434B5C;\n",
              "      --hover-fill-color: #FFFFFF;\n",
              "      --disabled-bg-color: #3B4455;\n",
              "      --disabled-fill-color: #666;\n",
              "  }\n",
              "\n",
              "  .colab-df-quickchart {\n",
              "    background-color: var(--bg-color);\n",
              "    border: none;\n",
              "    border-radius: 50%;\n",
              "    cursor: pointer;\n",
              "    display: none;\n",
              "    fill: var(--fill-color);\n",
              "    height: 32px;\n",
              "    padding: 0;\n",
              "    width: 32px;\n",
              "  }\n",
              "\n",
              "  .colab-df-quickchart:hover {\n",
              "    background-color: var(--hover-bg-color);\n",
              "    box-shadow: 0 1px 2px rgba(60, 64, 67, 0.3), 0 1px 3px 1px rgba(60, 64, 67, 0.15);\n",
              "    fill: var(--button-hover-fill-color);\n",
              "  }\n",
              "\n",
              "  .colab-df-quickchart-complete:disabled,\n",
              "  .colab-df-quickchart-complete:disabled:hover {\n",
              "    background-color: var(--disabled-bg-color);\n",
              "    fill: var(--disabled-fill-color);\n",
              "    box-shadow: none;\n",
              "  }\n",
              "\n",
              "  .colab-df-spinner {\n",
              "    border: 2px solid var(--fill-color);\n",
              "    border-color: transparent;\n",
              "    border-bottom-color: var(--fill-color);\n",
              "    animation:\n",
              "      spin 1s steps(1) infinite;\n",
              "  }\n",
              "\n",
              "  @keyframes spin {\n",
              "    0% {\n",
              "      border-color: transparent;\n",
              "      border-bottom-color: var(--fill-color);\n",
              "      border-left-color: var(--fill-color);\n",
              "    }\n",
              "    20% {\n",
              "      border-color: transparent;\n",
              "      border-left-color: var(--fill-color);\n",
              "      border-top-color: var(--fill-color);\n",
              "    }\n",
              "    30% {\n",
              "      border-color: transparent;\n",
              "      border-left-color: var(--fill-color);\n",
              "      border-top-color: var(--fill-color);\n",
              "      border-right-color: var(--fill-color);\n",
              "    }\n",
              "    40% {\n",
              "      border-color: transparent;\n",
              "      border-right-color: var(--fill-color);\n",
              "      border-top-color: var(--fill-color);\n",
              "    }\n",
              "    60% {\n",
              "      border-color: transparent;\n",
              "      border-right-color: var(--fill-color);\n",
              "    }\n",
              "    80% {\n",
              "      border-color: transparent;\n",
              "      border-right-color: var(--fill-color);\n",
              "      border-bottom-color: var(--fill-color);\n",
              "    }\n",
              "    90% {\n",
              "      border-color: transparent;\n",
              "      border-bottom-color: var(--fill-color);\n",
              "    }\n",
              "  }\n",
              "</style>\n",
              "\n",
              "  <script>\n",
              "    async function quickchart(key) {\n",
              "      const quickchartButtonEl =\n",
              "        document.querySelector('#' + key + ' button');\n",
              "      quickchartButtonEl.disabled = true;  // To prevent multiple clicks.\n",
              "      quickchartButtonEl.classList.add('colab-df-spinner');\n",
              "      try {\n",
              "        const charts = await google.colab.kernel.invokeFunction(\n",
              "            'suggestCharts', [key], {});\n",
              "      } catch (error) {\n",
              "        console.error('Error during call to suggestCharts:', error);\n",
              "      }\n",
              "      quickchartButtonEl.classList.remove('colab-df-spinner');\n",
              "      quickchartButtonEl.classList.add('colab-df-quickchart-complete');\n",
              "    }\n",
              "    (() => {\n",
              "      let quickchartButtonEl =\n",
              "        document.querySelector('#df-207238fc-cfcd-45a7-96a2-323d68ae25e5 button');\n",
              "      quickchartButtonEl.style.display =\n",
              "        google.colab.kernel.accessAllowed ? 'block' : 'none';\n",
              "    })();\n",
              "  </script>\n",
              "</div>\n",
              "\n",
              "    </div>\n",
              "  </div>\n"
            ],
            "application/vnd.google.colaboratory.intrinsic+json": {
              "type": "dataframe",
              "variable_name": "dataset"
            }
          },
          "metadata": {},
          "execution_count": 27
        }
      ]
    },
    {
      "cell_type": "markdown",
      "source": [
        "### Dataset Rows & Columns count"
      ],
      "metadata": {
        "id": "abXw-iUmubUx"
      }
    },
    {
      "cell_type": "code",
      "source": [
        "# Dataset Rows & Columns\n",
        "dataset.shape"
      ],
      "metadata": {
        "colab": {
          "base_uri": "https://localhost:8080/"
        },
        "id": "C1GKAV2HueLG",
        "outputId": "af11f364-91b7-45b4-fde3-68d0f4c95da9"
      },
      "execution_count": 28,
      "outputs": [
        {
          "output_type": "execute_result",
          "data": {
            "text/plain": [
              "(10324, 33)"
            ]
          },
          "metadata": {},
          "execution_count": 28
        }
      ]
    },
    {
      "cell_type": "markdown",
      "source": [
        "### Dataset Information"
      ],
      "metadata": {
        "id": "XW2CeESwuiD0"
      }
    },
    {
      "cell_type": "code",
      "source": [
        "# Dataset Info\n",
        "dataset.info()"
      ],
      "metadata": {
        "colab": {
          "base_uri": "https://localhost:8080/"
        },
        "id": "uW5ZLTfyule3",
        "outputId": "44a1081e-2f8d-4d67-ca94-f669c2ae21f5"
      },
      "execution_count": 29,
      "outputs": [
        {
          "output_type": "stream",
          "name": "stdout",
          "text": [
            "<class 'pandas.core.frame.DataFrame'>\n",
            "RangeIndex: 10324 entries, 0 to 10323\n",
            "Data columns (total 33 columns):\n",
            " #   Column                        Non-Null Count  Dtype  \n",
            "---  ------                        --------------  -----  \n",
            " 0   ID                            10324 non-null  int64  \n",
            " 1   Project Code                  10324 non-null  object \n",
            " 2   PQ #                          10324 non-null  object \n",
            " 3   PO / SO #                     10324 non-null  object \n",
            " 4   ASN/DN #                      10324 non-null  object \n",
            " 5   Country                       10324 non-null  object \n",
            " 6   Managed By                    10324 non-null  object \n",
            " 7   Fulfill Via                   10324 non-null  object \n",
            " 8   Vendor INCO Term              10324 non-null  object \n",
            " 9   Shipment Mode                 9964 non-null   object \n",
            " 10  PQ First Sent to Client Date  10324 non-null  object \n",
            " 11  PO Sent to Vendor Date        10324 non-null  object \n",
            " 12  Scheduled Delivery Date       10324 non-null  object \n",
            " 13  Delivered to Client Date      10324 non-null  object \n",
            " 14  Delivery Recorded Date        10324 non-null  object \n",
            " 15  Product Group                 10324 non-null  object \n",
            " 16  Sub Classification            10324 non-null  object \n",
            " 17  Vendor                        10324 non-null  object \n",
            " 18  Item Description              10324 non-null  object \n",
            " 19  Molecule/Test Type            10324 non-null  object \n",
            " 20  Brand                         10324 non-null  object \n",
            " 21  Dosage                        8588 non-null   object \n",
            " 22  Dosage Form                   10324 non-null  object \n",
            " 23  Unit of Measure (Per Pack)    10324 non-null  int64  \n",
            " 24  Line Item Quantity            10324 non-null  int64  \n",
            " 25  Line Item Value               10324 non-null  float64\n",
            " 26  Pack Price                    10324 non-null  float64\n",
            " 27  Unit Price                    10324 non-null  float64\n",
            " 28  Manufacturing Site            10324 non-null  object \n",
            " 29  First Line Designation        10324 non-null  object \n",
            " 30  Weight (Kilograms)            10324 non-null  object \n",
            " 31  Freight Cost (USD)            10324 non-null  object \n",
            " 32  Line Item Insurance (USD)     10037 non-null  float64\n",
            "dtypes: float64(4), int64(3), object(26)\n",
            "memory usage: 2.6+ MB\n"
          ]
        }
      ]
    },
    {
      "cell_type": "markdown",
      "source": [
        "#### Duplicate Values"
      ],
      "metadata": {
        "id": "_wVPl1Cvuua_"
      }
    },
    {
      "cell_type": "code",
      "source": [
        "# Dataset Duplicate Value Count\n",
        "len(dataset[dataset.duplicated()])"
      ],
      "metadata": {
        "colab": {
          "base_uri": "https://localhost:8080/"
        },
        "id": "dtAHJJCTuvKj",
        "outputId": "92925a0c-718f-4a72-a561-3e200cb6d0a3"
      },
      "execution_count": 30,
      "outputs": [
        {
          "output_type": "execute_result",
          "data": {
            "text/plain": [
              "0"
            ]
          },
          "metadata": {},
          "execution_count": 30
        }
      ]
    },
    {
      "cell_type": "markdown",
      "source": [
        "#### Missing Values/Null Values"
      ],
      "metadata": {
        "id": "uM-WJ2Pguy-i"
      }
    },
    {
      "cell_type": "code",
      "source": [
        "# Missing Values/Null Values Count\n",
        "print(dataset.isnull().sum())"
      ],
      "metadata": {
        "colab": {
          "base_uri": "https://localhost:8080/"
        },
        "id": "ZO7I3-Zeu4M4",
        "outputId": "2c4cf9ef-13e1-4568-fd75-c04b5217d79e"
      },
      "execution_count": 31,
      "outputs": [
        {
          "output_type": "stream",
          "name": "stdout",
          "text": [
            "ID                                 0\n",
            "Project Code                       0\n",
            "PQ #                               0\n",
            "PO / SO #                          0\n",
            "ASN/DN #                           0\n",
            "Country                            0\n",
            "Managed By                         0\n",
            "Fulfill Via                        0\n",
            "Vendor INCO Term                   0\n",
            "Shipment Mode                    360\n",
            "PQ First Sent to Client Date       0\n",
            "PO Sent to Vendor Date             0\n",
            "Scheduled Delivery Date            0\n",
            "Delivered to Client Date           0\n",
            "Delivery Recorded Date             0\n",
            "Product Group                      0\n",
            "Sub Classification                 0\n",
            "Vendor                             0\n",
            "Item Description                   0\n",
            "Molecule/Test Type                 0\n",
            "Brand                              0\n",
            "Dosage                          1736\n",
            "Dosage Form                        0\n",
            "Unit of Measure (Per Pack)         0\n",
            "Line Item Quantity                 0\n",
            "Line Item Value                    0\n",
            "Pack Price                         0\n",
            "Unit Price                         0\n",
            "Manufacturing Site                 0\n",
            "First Line Designation             0\n",
            "Weight (Kilograms)                 0\n",
            "Freight Cost (USD)                 0\n",
            "Line Item Insurance (USD)        287\n",
            "dtype: int64\n"
          ]
        }
      ]
    },
    {
      "cell_type": "code",
      "source": [
        "# Visualizing the missing values\n",
        "# Checking Null Value by plotting Heatmap\n",
        "sns.heatmap(dataset.isnull(), cbar=False)"
      ],
      "metadata": {
        "colab": {
          "base_uri": "https://localhost:8080/",
          "height": 629
        },
        "id": "s9uPshrAvHyw",
        "outputId": "c521b6d9-4748-4e0f-9db5-cc4f16696cd0"
      },
      "execution_count": 32,
      "outputs": [
        {
          "output_type": "execute_result",
          "data": {
            "text/plain": [
              "<Axes: >"
            ]
          },
          "metadata": {},
          "execution_count": 32
        },
        {
          "output_type": "display_data",
          "data": {
            "text/plain": [
              "<Figure size 640x480 with 1 Axes>"
            ],
            "image/png": "[encoded data removed]"
          },
          "metadata": {}
        }
      ]
    },
    {
      "cell_type": "markdown",
      "source": [
        "### What did you know about your dataset?"
      ],
      "metadata": {
        "id": "SZmVxfolvMgc"
      }
    },
    {
      "cell_type": "markdown",
      "source": [
        "The dataset given is a dataset from Logistics industry.\n",
        "\n",
        "This project focuses on analyzing the performance of a logistics operation. The goal is to evaluate the efficiency and effectiveness of various logistics processes, identify areas for improvement, and provide data-driven recommendations to optimize operations and reduce costs.\n",
        "\n",
        "The above dataset has 10324 rows and 33 columns. There are no duplicate values in the dataset. But there are 360 missing values in 'Shipment Mode' column, 1736 missing values in 'Dosage' column, 287 missing values in 'Line Item Insurance (USD)' column."
      ],
      "metadata": {
        "id": "39WPcmxBvPQG"
      }
    },
    {
      "cell_type": "markdown",
      "source": [
        "## ***2. Understanding Your Variables***"
      ],
      "metadata": {
        "id": "03NKLTiS1A6G"
      }
    },
    {
      "cell_type": "code",
      "source": [
        "# Dataset Columns\n",
        "dataset.columns"
      ],
      "metadata": {
        "colab": {
          "base_uri": "https://localhost:8080/"
        },
        "id": "i8yyPj_61F5S",
        "outputId": "85f4ca92-221b-46a6-bb83-d4c3d8aab8a1"
      },
      "execution_count": 33,
      "outputs": [
        {
          "output_type": "execute_result",
          "data": {
            "text/plain": [
              "Index(['ID', 'Project Code', 'PQ #', 'PO / SO #', 'ASN/DN #', 'Country',\n",
              "       'Managed By', 'Fulfill Via', 'Vendor INCO Term', 'Shipment Mode',\n",
              "       'PQ First Sent to Client Date', 'PO Sent to Vendor Date',\n",
              "       'Scheduled Delivery Date', 'Delivered to Client Date',\n",
              "       'Delivery Recorded Date', 'Product Group', 'Sub Classification',\n",
              "       'Vendor', 'Item Description', 'Molecule/Test Type', 'Brand', 'Dosage',\n",
              "       'Dosage Form', 'Unit of Measure (Per Pack)', 'Line Item Quantity',\n",
              "       'Line Item Value', 'Pack Price', 'Unit Price', 'Manufacturing Site',\n",
              "       'First Line Designation', 'Weight (Kilograms)', 'Freight Cost (USD)',\n",
              "       'Line Item Insurance (USD)'],\n",
              "      dtype='object')"
            ]
          },
          "metadata": {},
          "execution_count": 33
        }
      ]
    },
    {
      "cell_type": "code",
      "source": [
        "# Dataset Describe\n",
        "dataset.describe(include='all')"
      ],
      "metadata": {
        "colab": {
          "base_uri": "https://localhost:8080/",
          "height": 524
        },
        "id": "sNy4tyiG1Lcg",
        "outputId": "f3095889-6340-4bcb-d248-0504e651182c"
      },
      "execution_count": 34,
      "outputs": [
        {
          "output_type": "execute_result",
          "data": {
            "text/plain": [
              "                  ID Project Code            PQ #    PO / SO #   ASN/DN #  \\\n",
              "count   10324.000000        10324           10324        10324      10324   \n",
              "unique           NaN          142            1237         6233       7030   \n",
              "top              NaN   116-ZA-T30  Pre-PQ Process  SCMS-199289  ASN-19166   \n",
              "freq             NaN          768            2681           67         54   \n",
              "mean    51098.968229          NaN             NaN          NaN        NaN   \n",
              "std     31944.332496          NaN             NaN          NaN        NaN   \n",
              "min         1.000000          NaN             NaN          NaN        NaN   \n",
              "25%     12795.750000          NaN             NaN          NaN        NaN   \n",
              "50%     57540.500000          NaN             NaN          NaN        NaN   \n",
              "75%     83648.250000          NaN             NaN          NaN        NaN   \n",
              "max     86823.000000          NaN             NaN          NaN        NaN   \n",
              "\n",
              "             Country Managed By Fulfill Via Vendor INCO Term Shipment Mode  \\\n",
              "count          10324      10324       10324            10324          9964   \n",
              "unique            43          4           2                8             4   \n",
              "top     South Africa   PMO - US    From RDC   N/A - From RDC           Air   \n",
              "freq            1406      10265        5404             5404          6113   \n",
              "mean             NaN        NaN         NaN              NaN           NaN   \n",
              "std              NaN        NaN         NaN              NaN           NaN   \n",
              "min              NaN        NaN         NaN              NaN           NaN   \n",
              "25%              NaN        NaN         NaN              NaN           NaN   \n",
              "50%              NaN        NaN         NaN              NaN           NaN   \n",
              "75%              NaN        NaN         NaN              NaN           NaN   \n",
              "max              NaN        NaN         NaN              NaN           NaN   \n",
              "\n",
              "        ... Unit of Measure (Per Pack) Line Item Quantity Line Item Value  \\\n",
              "count   ...               10324.000000       10324.000000    1.032400e+04   \n",
              "unique  ...                        NaN                NaN             NaN   \n",
              "top     ...                        NaN                NaN             NaN   \n",
              "freq    ...                        NaN                NaN             NaN   \n",
              "mean    ...                  77.990895       18332.534870    1.576506e+05   \n",
              "std     ...                  76.579764       40035.302961    3.452921e+05   \n",
              "min     ...                   1.000000           1.000000    0.000000e+00   \n",
              "25%     ...                  30.000000         408.000000    4.314593e+03   \n",
              "50%     ...                  60.000000        3000.000000    3.047147e+04   \n",
              "75%     ...                  90.000000       17039.750000    1.664471e+05   \n",
              "max     ...                1000.000000      619999.000000    5.951990e+06   \n",
              "\n",
              "          Pack Price    Unit Price         Manufacturing Site  \\\n",
              "count   10324.000000  10324.000000                      10324   \n",
              "unique           NaN           NaN                         88   \n",
              "top              NaN           NaN  Aurobindo Unit III, India   \n",
              "freq             NaN           NaN                       3172   \n",
              "mean       21.910241      0.611701                        NaN   \n",
              "std        45.609223      3.275808                        NaN   \n",
              "min         0.000000      0.000000                        NaN   \n",
              "25%         4.120000      0.080000                        NaN   \n",
              "50%         9.300000      0.160000                        NaN   \n",
              "75%        23.592500      0.470000                        NaN   \n",
              "max      1345.640000    238.650000                        NaN   \n",
              "\n",
              "       First Line Designation          Weight (Kilograms)  \\\n",
              "count                   10324                       10324   \n",
              "unique                      2                        4688   \n",
              "top                       Yes  Weight Captured Separately   \n",
              "freq                     7030                        1507   \n",
              "mean                      NaN                         NaN   \n",
              "std                       NaN                         NaN   \n",
              "min                       NaN                         NaN   \n",
              "25%                       NaN                         NaN   \n",
              "50%                       NaN                         NaN   \n",
              "75%                       NaN                         NaN   \n",
              "max                       NaN                         NaN   \n",
              "\n",
              "                        Freight Cost (USD) Line Item Insurance (USD)  \n",
              "count                                10324              10037.000000  \n",
              "unique                                6733                       NaN  \n",
              "top     Freight Included in Commodity Cost                       NaN  \n",
              "freq                                  1442                       NaN  \n",
              "mean                                   NaN                240.117626  \n",
              "std                                    NaN                500.190568  \n",
              "min                                    NaN                  0.000000  \n",
              "25%                                    NaN                  6.510000  \n",
              "50%                                    NaN                 47.040000  \n",
              "75%                                    NaN                252.400000  \n",
              "max                                    NaN               7708.440000  \n",
              "\n",
              "[11 rows x 33 columns]"
            ],
            "text/html": [
              "\n",
              "  <div id=\"df-e5d62316-8e0c-4d26-8c6b-228e840fe778\" class=\"colab-df-container\">\n",
              "    <div>\n",
              "<style scoped>\n",
              "    .dataframe tbody tr th:only-of-type {\n",
              "        vertical-align: middle;\n",
              "    }\n",
              "\n",
              "    .dataframe tbody tr th {\n",
              "        vertical-align: top;\n",
              "    }\n",
              "\n",
              "    .dataframe thead th {\n",
              "        text-align: right;\n",
              "    }\n",
              "</style>\n",
              "<table border=\"1\" class=\"dataframe\">\n",
              "  <thead>\n",
              "    <tr style=\"text-align: right;\">\n",
              "      <th></th>\n",
              "      <th>ID</th>\n",
              "      <th>Project Code</th>\n",
              "      <th>PQ #</th>\n",
              "      <th>PO / SO #</th>\n",
              "      <th>ASN/DN #</th>\n",
              "      <th>Country</th>\n",
              "      <th>Managed By</th>\n",
              "      <th>Fulfill Via</th>\n",
              "      <th>Vendor INCO Term</th>\n",
              "      <th>Shipment Mode</th>\n",
              "      <th>...</th>\n",
              "      <th>Unit of Measure (Per Pack)</th>\n",
              "      <th>Line Item Quantity</th>\n",
              "      <th>Line Item Value</th>\n",
              "      <th>Pack Price</th>\n",
              "      <th>Unit Price</th>\n",
              "      <th>Manufacturing Site</th>\n",
              "      <th>First Line Designation</th>\n",
              "      <th>Weight (Kilograms)</th>\n",
              "      <th>Freight Cost (USD)</th>\n",
              "      <th>Line Item Insurance (USD)</th>\n",
              "    </tr>\n",
              "  </thead>\n",
              "  <tbody>\n",
              "    <tr>\n",
              "      <th>count</th>\n",
              "      <td>10324.000000</td>\n",
              "      <td>10324</td>\n",
              "      <td>10324</td>\n",
              "      <td>10324</td>\n",
              "      <td>10324</td>\n",
              "      <td>10324</td>\n",
              "      <td>10324</td>\n",
              "      <td>10324</td>\n",
              "      <td>10324</td>\n",
              "      <td>9964</td>\n",
              "      <td>...</td>\n",
              "      <td>10324.000000</td>\n",
              "      <td>10324.000000</td>\n",
              "      <td>1.032400e+04</td>\n",
              "      <td>10324.000000</td>\n",
              "      <td>10324.000000</td>\n",
              "      <td>10324</td>\n",
              "      <td>10324</td>\n",
              "      <td>10324</td>\n",
              "      <td>10324</td>\n",
              "      <td>10037.000000</td>\n",
              "    </tr>\n",
              "    <tr>\n",
              "      <th>unique</th>\n",
              "      <td>NaN</td>\n",
              "      <td>142</td>\n",
              "      <td>1237</td>\n",
              "      <td>6233</td>\n",
              "      <td>7030</td>\n",
              "      <td>43</td>\n",
              "      <td>4</td>\n",
              "      <td>2</td>\n",
              "      <td>8</td>\n",
              "      <td>4</td>\n",
              "      <td>...</td>\n",
              "      <td>NaN</td>\n",
              "      <td>NaN</td>\n",
              "      <td>NaN</td>\n",
              "      <td>NaN</td>\n",
              "      <td>NaN</td>\n",
              "      <td>88</td>\n",
              "      <td>2</td>\n",
              "      <td>4688</td>\n",
              "      <td>6733</td>\n",
              "      <td>NaN</td>\n",
              "    </tr>\n",
              "    <tr>\n",
              "      <th>top</th>\n",
              "      <td>NaN</td>\n",
              "      <td>116-ZA-T30</td>\n",
              "      <td>Pre-PQ Process</td>\n",
              "      <td>SCMS-199289</td>\n",
              "      <td>ASN-19166</td>\n",
              "      <td>South Africa</td>\n",
              "      <td>PMO - US</td>\n",
              "      <td>From RDC</td>\n",
              "      <td>N/A - From RDC</td>\n",
              "      <td>Air</td>\n",
              "      <td>...</td>\n",
              "      <td>NaN</td>\n",
              "      <td>NaN</td>\n",
              "      <td>NaN</td>\n",
              "      <td>NaN</td>\n",
              "      <td>NaN</td>\n",
              "      <td>Aurobindo Unit III, India</td>\n",
              "      <td>Yes</td>\n",
              "      <td>Weight Captured Separately</td>\n",
              "      <td>Freight Included in Commodity Cost</td>\n",
              "      <td>NaN</td>\n",
              "    </tr>\n",
              "    <tr>\n",
              "      <th>freq</th>\n",
              "      <td>NaN</td>\n",
              "      <td>768</td>\n",
              "      <td>2681</td>\n",
              "      <td>67</td>\n",
              "      <td>54</td>\n",
              "      <td>1406</td>\n",
              "      <td>10265</td>\n",
              "      <td>5404</td>\n",
              "      <td>5404</td>\n",
              "      <td>6113</td>\n",
              "      <td>...</td>\n",
              "      <td>NaN</td>\n",
              "      <td>NaN</td>\n",
              "      <td>NaN</td>\n",
              "      <td>NaN</td>\n",
              "      <td>NaN</td>\n",
              "      <td>3172</td>\n",
              "      <td>7030</td>\n",
              "      <td>1507</td>\n",
              "      <td>1442</td>\n",
              "      <td>NaN</td>\n",
              "    </tr>\n",
              "    <tr>\n",
              "      <th>mean</th>\n",
              "      <td>51098.968229</td>\n",
              "      <td>NaN</td>\n",
              "      <td>NaN</td>\n",
              "      <td>NaN</td>\n",
              "      <td>NaN</td>\n",
              "      <td>NaN</td>\n",
              "      <td>NaN</td>\n",
              "      <td>NaN</td>\n",
              "      <td>NaN</td>\n",
              "      <td>NaN</td>\n",
              "      <td>...</td>\n",
              "      <td>77.990895</td>\n",
              "      <td>18332.534870</td>\n",
              "      <td>1.576506e+05</td>\n",
              "      <td>21.910241</td>\n",
              "      <td>0.611701</td>\n",
              "      <td>NaN</td>\n",
              "      <td>NaN</td>\n",
              "      <td>NaN</td>\n",
              "      <td>NaN</td>\n",
              "      <td>240.117626</td>\n",
              "    </tr>\n",
              "    <tr>\n",
              "      <th>std</th>\n",
              "      <td>31944.332496</td>\n",
              "      <td>NaN</td>\n",
              "      <td>NaN</td>\n",
              "      <td>NaN</td>\n",
              "      <td>NaN</td>\n",
              "      <td>NaN</td>\n",
              "      <td>NaN</td>\n",
              "      <td>NaN</td>\n",
              "      <td>NaN</td>\n",
              "      <td>NaN</td>\n",
              "      <td>...</td>\n",
              "      <td>76.579764</td>\n",
              "      <td>40035.302961</td>\n",
              "      <td>3.452921e+05</td>\n",
              "      <td>45.609223</td>\n",
              "      <td>3.275808</td>\n",
              "      <td>NaN</td>\n",
              "      <td>NaN</td>\n",
              "      <td>NaN</td>\n",
              "      <td>NaN</td>\n",
              "      <td>500.190568</td>\n",
              "    </tr>\n",
              "    <tr>\n",
              "      <th>min</th>\n",
              "      <td>1.000000</td>\n",
              "      <td>NaN</td>\n",
              "      <td>NaN</td>\n",
              "      <td>NaN</td>\n",
              "      <td>NaN</td>\n",
              "      <td>NaN</td>\n",
              "      <td>NaN</td>\n",
              "      <td>NaN</td>\n",
              "      <td>NaN</td>\n",
              "      <td>NaN</td>\n",
              "      <td>...</td>\n",
              "      <td>1.000000</td>\n",
              "      <td>1.000000</td>\n",
              "      <td>0.000000e+00</td>\n",
              "      <td>0.000000</td>\n",
              "      <td>0.000000</td>\n",
              "      <td>NaN</td>\n",
              "      <td>NaN</td>\n",
              "      <td>NaN</td>\n",
              "      <td>NaN</td>\n",
              "      <td>0.000000</td>\n",
              "    </tr>\n",
              "    <tr>\n",
              "      <th>25%</th>\n",
              "      <td>12795.750000</td>\n",
              "      <td>NaN</td>\n",
              "      <td>NaN</td>\n",
              "      <td>NaN</td>\n",
              "      <td>NaN</td>\n",
              "      <td>NaN</td>\n",
              "      <td>NaN</td>\n",
              "      <td>NaN</td>\n",
              "      <td>NaN</td>\n",
              "      <td>NaN</td>\n",
              "      <td>...</td>\n",
              "      <td>30.000000</td>\n",
              "      <td>408.000000</td>\n",
              "      <td>4.314593e+03</td>\n",
              "      <td>4.120000</td>\n",
              "      <td>0.080000</td>\n",
              "      <td>NaN</td>\n",
              "      <td>NaN</td>\n",
              "      <td>NaN</td>\n",
              "      <td>NaN</td>\n",
              "      <td>6.510000</td>\n",
              "    </tr>\n",
              "    <tr>\n",
              "      <th>50%</th>\n",
              "      <td>57540.500000</td>\n",
              "      <td>NaN</td>\n",
              "      <td>NaN</td>\n",
              "      <td>NaN</td>\n",
              "      <td>NaN</td>\n",
              "      <td>NaN</td>\n",
              "      <td>NaN</td>\n",
              "      <td>NaN</td>\n",
              "      <td>NaN</td>\n",
              "      <td>NaN</td>\n",
              "      <td>...</td>\n",
              "      <td>60.000000</td>\n",
              "      <td>3000.000000</td>\n",
              "      <td>3.047147e+04</td>\n",
              "      <td>9.300000</td>\n",
              "      <td>0.160000</td>\n",
              "      <td>NaN</td>\n",
              "      <td>NaN</td>\n",
              "      <td>NaN</td>\n",
              "      <td>NaN</td>\n",
              "      <td>47.040000</td>\n",
              "    </tr>\n",
              "    <tr>\n",
              "      <th>75%</th>\n",
              "      <td>83648.250000</td>\n",
              "      <td>NaN</td>\n",
              "      <td>NaN</td>\n",
              "      <td>NaN</td>\n",
              "      <td>NaN</td>\n",
              "      <td>NaN</td>\n",
              "      <td>NaN</td>\n",
              "      <td>NaN</td>\n",
              "      <td>NaN</td>\n",
              "      <td>NaN</td>\n",
              "      <td>...</td>\n",
              "      <td>90.000000</td>\n",
              "      <td>17039.750000</td>\n",
              "      <td>1.664471e+05</td>\n",
              "      <td>23.592500</td>\n",
              "      <td>0.470000</td>\n",
              "      <td>NaN</td>\n",
              "      <td>NaN</td>\n",
              "      <td>NaN</td>\n",
              "      <td>NaN</td>\n",
              "      <td>252.400000</td>\n",
              "    </tr>\n",
              "    <tr>\n",
              "      <th>max</th>\n",
              "      <td>86823.000000</td>\n",
              "      <td>NaN</td>\n",
              "      <td>NaN</td>\n",
              "      <td>NaN</td>\n",
              "      <td>NaN</td>\n",
              "      <td>NaN</td>\n",
              "      <td>NaN</td>\n",
              "      <td>NaN</td>\n",
              "      <td>NaN</td>\n",
              "      <td>NaN</td>\n",
              "      <td>...</td>\n",
              "      <td>1000.000000</td>\n",
              "      <td>619999.000000</td>\n",
              "      <td>5.951990e+06</td>\n",
              "      <td>1345.640000</td>\n",
              "      <td>238.650000</td>\n",
              "      <td>NaN</td>\n",
              "      <td>NaN</td>\n",
              "      <td>NaN</td>\n",
              "      <td>NaN</td>\n",
              "      <td>7708.440000</td>\n",
              "    </tr>\n",
              "  </tbody>\n",
              "</table>\n",
              "<p>11 rows × 33 columns</p>\n",
              "</div>\n",
              "    <div class=\"colab-df-buttons\">\n",
              "\n",
              "  <div class=\"colab-df-container\">\n",
              "    <button class=\"colab-df-convert\" onclick=\"convertToInteractive('df-e5d62316-8e0c-4d26-8c6b-228e840fe778')\"\n",
              "            title=\"Convert this dataframe to an interactive table.\"\n",
              "            style=\"display:none;\">\n",
              "\n",
              "  <svg xmlns=\"http://www.w3.org/2000/svg\" height=\"24px\" viewBox=\"0 -960 960 960\">\n",
              "    <path d=\"M120-120v-720h720v720H120Zm60-500h600v-160H180v160Zm220 220h160v-160H400v160Zm0 220h160v-160H400v160ZM180-400h160v-160H180v160Zm440 0h160v-160H620v160ZM180-180h160v-160H180v160Zm440 0h160v-160H620v160Z\"/>\n",
              "  </svg>\n",
              "    </button>\n",
              "\n",
              "  <style>\n",
              "    .colab-df-container {\n",
              "      display:flex;\n",
              "      gap: 12px;\n",
              "    }\n",
              "\n",
              "    .colab-df-convert {\n",
              "      background-color: #E8F0FE;\n",
              "      border: none;\n",
              "      border-radius: 50%;\n",
              "      cursor: pointer;\n",
              "      display: none;\n",
              "      fill: #1967D2;\n",
              "      height: 32px;\n",
              "      padding: 0 0 0 0;\n",
              "      width: 32px;\n",
              "    }\n",
              "\n",
              "    .colab-df-convert:hover {\n",
              "      background-color: #E2EBFA;\n",
              "      box-shadow: 0px 1px 2px rgba(60, 64, 67, 0.3), 0px 1px 3px 1px rgba(60, 64, 67, 0.15);\n",
              "      fill: #174EA6;\n",
              "    }\n",
              "\n",
              "    .colab-df-buttons div {\n",
              "      margin-bottom: 4px;\n",
              "    }\n",
              "\n",
              "    [theme=dark] .colab-df-convert {\n",
              "      background-color: #3B4455;\n",
              "      fill: #D2E3FC;\n",
              "    }\n",
              "\n",
              "    [theme=dark] .colab-df-convert:hover {\n",
              "      background-color: #434B5C;\n",
              "      box-shadow: 0px 1px 3px 1px rgba(0, 0, 0, 0.15);\n",
              "      filter: drop-shadow(0px 1px 2px rgba(0, 0, 0, 0.3));\n",
              "      fill: #FFFFFF;\n",
              "    }\n",
              "  </style>\n",
              "\n",
              "    <script>\n",
              "      const buttonEl =\n",
              "        document.querySelector('#df-e5d62316-8e0c-4d26-8c6b-228e840fe778 button.colab-df-convert');\n",
              "      buttonEl.style.display =\n",
              "        google.colab.kernel.accessAllowed ? 'block' : 'none';\n",
              "\n",
              "      async function convertToInteractive(key) {\n",
              "        const element = document.querySelector('#df-e5d62316-8e0c-4d26-8c6b-228e840fe778');\n",
              "        const dataTable =\n",
              "          await google.colab.kernel.invokeFunction('convertToInteractive',\n",
              "                                                    [key], {});\n",
              "        if (!dataTable) return;\n",
              "\n",
              "        const docLinkHtml = 'Like what you see? Visit the ' +\n",
              "          '<a target=\"_blank\" href=https://colab.research.google.com/notebooks/data_table.ipynb>data table notebook</a>'\n",
              "          + ' to learn more about interactive tables.';\n",
              "        element.innerHTML = '';\n",
              "        dataTable['output_type'] = 'display_data';\n",
              "        await google.colab.output.renderOutput(dataTable, element);\n",
              "        const docLink = document.createElement('div');\n",
              "        docLink.innerHTML = docLinkHtml;\n",
              "        element.appendChild(docLink);\n",
              "      }\n",
              "    </script>\n",
              "  </div>\n",
              "\n",
              "\n",
              "<div id=\"df-a90d9e89-3ba9-48e0-a4e3-a5a7d798b8a8\">\n",
              "  <button class=\"colab-df-quickchart\" onclick=\"quickchart('df-a90d9e89-3ba9-48e0-a4e3-a5a7d798b8a8')\"\n",
              "            title=\"Suggest charts\"\n",
              "            style=\"display:none;\">\n",
              "\n",
              "<svg xmlns=\"http://www.w3.org/2000/svg\" height=\"24px\"viewBox=\"0 0 24 24\"\n",
              "     width=\"24px\">\n",
              "    <g>\n",
              "        <path d=\"M19 3H5c-1.1 0-2 .9-2 2v14c0 1.1.9 2 2 2h14c1.1 0 2-.9 2-2V5c0-1.1-.9-2-2-2zM9 17H7v-7h2v7zm4 0h-2V7h2v10zm4 0h-2v-4h2v4z\"/>\n",
              "    </g>\n",
              "</svg>\n",
              "  </button>\n",
              "\n",
              "<style>\n",
              "  .colab-df-quickchart {\n",
              "      --bg-color: #E8F0FE;\n",
              "      --fill-color: #1967D2;\n",
              "      --hover-bg-color: #E2EBFA;\n",
              "      --hover-fill-color: #174EA6;\n",
              "      --disabled-fill-color: #AAA;\n",
              "      --disabled-bg-color: #DDD;\n",
              "  }\n",
              "\n",
              "  [theme=dark] .colab-df-quickchart {\n",
              "      --bg-color: #3B4455;\n",
              "      --fill-color: #D2E3FC;\n",
              "      --hover-bg-color: #434B5C;\n",
              "      --hover-fill-color: #FFFFFF;\n",
              "      --disabled-bg-color: #3B4455;\n",
              "      --disabled-fill-color: #666;\n",
              "  }\n",
              "\n",
              "  .colab-df-quickchart {\n",
              "    background-color: var(--bg-color);\n",
              "    border: none;\n",
              "    border-radius: 50%;\n",
              "    cursor: pointer;\n",
              "    display: none;\n",
              "    fill: var(--fill-color);\n",
              "    height: 32px;\n",
              "    padding: 0;\n",
              "    width: 32px;\n",
              "  }\n",
              "\n",
              "  .colab-df-quickchart:hover {\n",
              "    background-color: var(--hover-bg-color);\n",
              "    box-shadow: 0 1px 2px rgba(60, 64, 67, 0.3), 0 1px 3px 1px rgba(60, 64, 67, 0.15);\n",
              "    fill: var(--button-hover-fill-color);\n",
              "  }\n",
              "\n",
              "  .colab-df-quickchart-complete:disabled,\n",
              "  .colab-df-quickchart-complete:disabled:hover {\n",
              "    background-color: var(--disabled-bg-color);\n",
              "    fill: var(--disabled-fill-color);\n",
              "    box-shadow: none;\n",
              "  }\n",
              "\n",
              "  .colab-df-spinner {\n",
              "    border: 2px solid var(--fill-color);\n",
              "    border-color: transparent;\n",
              "    border-bottom-color: var(--fill-color);\n",
              "    animation:\n",
              "      spin 1s steps(1) infinite;\n",
              "  }\n",
              "\n",
              "  @keyframes spin {\n",
              "    0% {\n",
              "      border-color: transparent;\n",
              "      border-bottom-color: var(--fill-color);\n",
              "      border-left-color: var(--fill-color);\n",
              "    }\n",
              "    20% {\n",
              "      border-color: transparent;\n",
              "      border-left-color: var(--fill-color);\n",
              "      border-top-color: var(--fill-color);\n",
              "    }\n",
              "    30% {\n",
              "      border-color: transparent;\n",
              "      border-left-color: var(--fill-color);\n",
              "      border-top-color: var(--fill-color);\n",
              "      border-right-color: var(--fill-color);\n",
              "    }\n",
              "    40% {\n",
              "      border-color: transparent;\n",
              "      border-right-color: var(--fill-color);\n",
              "      border-top-color: var(--fill-color);\n",
              "    }\n",
              "    60% {\n",
              "      border-color: transparent;\n",
              "      border-right-color: var(--fill-color);\n",
              "    }\n",
              "    80% {\n",
              "      border-color: transparent;\n",
              "      border-right-color: var(--fill-color);\n",
              "      border-bottom-color: var(--fill-color);\n",
              "    }\n",
              "    90% {\n",
              "      border-color: transparent;\n",
              "      border-bottom-color: var(--fill-color);\n",
              "    }\n",
              "  }\n",
              "</style>\n",
              "\n",
              "  <script>\n",
              "    async function quickchart(key) {\n",
              "      const quickchartButtonEl =\n",
              "        document.querySelector('#' + key + ' button');\n",
              "      quickchartButtonEl.disabled = true;  // To prevent multiple clicks.\n",
              "      quickchartButtonEl.classList.add('colab-df-spinner');\n",
              "      try {\n",
              "        const charts = await google.colab.kernel.invokeFunction(\n",
              "            'suggestCharts', [key], {});\n",
              "      } catch (error) {\n",
              "        console.error('Error during call to suggestCharts:', error);\n",
              "      }\n",
              "      quickchartButtonEl.classList.remove('colab-df-spinner');\n",
              "      quickchartButtonEl.classList.add('colab-df-quickchart-complete');\n",
              "    }\n",
              "    (() => {\n",
              "      let quickchartButtonEl =\n",
              "        document.querySelector('#df-a90d9e89-3ba9-48e0-a4e3-a5a7d798b8a8 button');\n",
              "      quickchartButtonEl.style.display =\n",
              "        google.colab.kernel.accessAllowed ? 'block' : 'none';\n",
              "    })();\n",
              "  </script>\n",
              "</div>\n",
              "\n",
              "    </div>\n",
              "  </div>\n"
            ],
            "application/vnd.google.colaboratory.intrinsic+json": {
              "type": "dataframe"
            }
          },
          "metadata": {},
          "execution_count": 34
        }
      ]
    },
    {
      "cell_type": "markdown",
      "source": [
        "### Variables Description"
      ],
      "metadata": {
        "id": "ru8Zh-1E148D"
      }
    },
    {
      "cell_type": "markdown",
      "source": [
        "* **ID** : Unique identifier for each logistics\n",
        "* **Project Code** : Code representing the project or initiative tied to the shipment.\n",
        "* **PQ #** : Price Quotation reference number.\n",
        "* **PO / SO #** : Purchase Order or Sales Order associated with the shipment.\n",
        "* **ASN/DN #** : Advanced Shipment Notice or Delivery Note reference.\n",
        "* **Country** : Destination country for the shipment (e.g., Côte d'Ivoire, Vietnam).\n",
        "* **Managed By** : Specifies which team manages the project (e.g., PMO-US).\n",
        "* **Fulfill Via** : Method of fulfillment, such as direct drop shipment.\n",
        "* **Vendor INCO Term** : Incoterms defining the shipment agreement (e.g., EXW, FCA).\n",
        "* **Shipment Mode** : The mode of transportation used (e.g., air).\n",
        "* **PQ First Sent to Client Date** : The date the Price Quotation was first sent to the client (some records indicate \"Pre-PQ Process\").\n",
        "* **PO Sent to Vendor Date** : Date the purchase order was sent to the vendor.\n",
        "* **Scheduled Delivery Date** : The planned date for delivery.\n",
        "* **Delivered to Client Date** : The actual date the shipment was delivered.\n",
        "* **Delivery Recorded Date** : Date when delivery was recorded.\n",
        "* **Product Group** : General classification of the product (e.g., HIV test, ARV Pediatric).\n",
        "* **Sub Classification** : Further categorization of the product.\n",
        "* **Vendor** : The company supplying the goods (e.g., RANBAXY Fine Chemicals LTD, Aurobindo Pharma Limited).\n",
        "* **Item Description** : Detailed description of the item being shipped.\n",
        "* **Molecule/Test Type** : The type of test or pharmaceutical molecule (e.g., HIV, Nevirapine).\n",
        "* **Brand** : The brand name of the product (e.g., Reveal, Generic).\n",
        "* **Dosage** : The dosage strength of the pharmaceutical product (if applicable).\n",
        "* **Dosage Form** : The form in which the product is delivered (e.g., test kit, oral suspension).\n",
        "* **Unit of Measure (Per Pack)** : The number of units per pack.\n",
        "* **Line Item Quantity** : The total number of units shipped.\n",
        "* **Line Item Value** : The total value of the line item in the shipment.\n",
        "* **Pack Price** : Price per pack of the item.\n",
        "* **Unit Price** : Price per individual unit of the item.\n",
        "* **Manufacturing Site** : The location where the item was manufactured (e.g., Ranbaxy Fine Chemicals LTD, Aurobindo Unit III, India).\n",
        "* **First Line Designation** : Indicates whether the product is designated for first-line use.\n",
        "* **Weight (Kilograms)** : The weight of the shipment.\n",
        "* **Freight Cost (USD)** : The cost of shipping the item in U.S. dollars.\n",
        "* **Line Item Insurance (USD)** : Insurance cost for the line item, if applicable."
      ],
      "metadata": {
        "id": "x74dw7f616e5"
      }
    },
    {
      "cell_type": "markdown",
      "source": [
        "### Check Unique Values for each variable."
      ],
      "metadata": {
        "id": "dQlv5WUQ5qR5"
      }
    },
    {
      "cell_type": "code",
      "source": [
        "# Check Unique Values for each variable.\n",
        "for i in dataset.columns.tolist():\n",
        "  print(\"No. of unique values in \",i,\"is\",dataset[i].nunique(),\".\")"
      ],
      "metadata": {
        "id": "lkictvOb-t42",
        "outputId": "13c4ca54-8eea-4773-80c8-a3fbcb13efbe",
        "colab": {
          "base_uri": "https://localhost:8080/"
        }
      },
      "execution_count": 35,
      "outputs": [
        {
          "output_type": "stream",
          "name": "stdout",
          "text": [
            "No. of unique values in  ID is 10324 .\n",
            "No. of unique values in  Project Code is 142 .\n",
            "No. of unique values in  PQ # is 1237 .\n",
            "No. of unique values in  PO / SO # is 6233 .\n",
            "No. of unique values in  ASN/DN # is 7030 .\n",
            "No. of unique values in  Country is 43 .\n",
            "No. of unique values in  Managed By is 4 .\n",
            "No. of unique values in  Fulfill Via is 2 .\n",
            "No. of unique values in  Vendor INCO Term is 8 .\n",
            "No. of unique values in  Shipment Mode is 4 .\n",
            "No. of unique values in  PQ First Sent to Client Date is 765 .\n",
            "No. of unique values in  PO Sent to Vendor Date is 897 .\n",
            "No. of unique values in  Scheduled Delivery Date is 2006 .\n",
            "No. of unique values in  Delivered to Client Date is 2093 .\n",
            "No. of unique values in  Delivery Recorded Date is 2042 .\n",
            "No. of unique values in  Product Group is 5 .\n",
            "No. of unique values in  Sub Classification is 6 .\n",
            "No. of unique values in  Vendor is 73 .\n",
            "No. of unique values in  Item Description is 184 .\n",
            "No. of unique values in  Molecule/Test Type is 86 .\n",
            "No. of unique values in  Brand is 48 .\n",
            "No. of unique values in  Dosage is 54 .\n",
            "No. of unique values in  Dosage Form is 17 .\n",
            "No. of unique values in  Unit of Measure (Per Pack) is 31 .\n",
            "No. of unique values in  Line Item Quantity is 5065 .\n",
            "No. of unique values in  Line Item Value is 8741 .\n",
            "No. of unique values in  Pack Price is 1175 .\n",
            "No. of unique values in  Unit Price is 183 .\n",
            "No. of unique values in  Manufacturing Site is 88 .\n",
            "No. of unique values in  First Line Designation is 2 .\n",
            "No. of unique values in  Weight (Kilograms) is 4688 .\n",
            "No. of unique values in  Freight Cost (USD) is 6733 .\n",
            "No. of unique values in  Line Item Insurance (USD) is 6722 .\n"
          ]
        }
      ]
    },
    {
      "cell_type": "markdown",
      "source": [
        "## 3. ***Data Wrangling***"
      ],
      "metadata": {
        "id": "WSB45Ukm02W9"
      }
    },
    {
      "cell_type": "markdown",
      "source": [
        "### Data Wrangling Code"
      ],
      "metadata": {
        "id": "E75_uTV43R30"
      }
    },
    {
      "cell_type": "code",
      "source": [
        "#finding unique dosage forms\n",
        "print(dataset['Dosage Form'].unique())"
      ],
      "metadata": {
        "colab": {
          "base_uri": "https://localhost:8080/"
        },
        "id": "m1fMgiZv9hBM",
        "outputId": "fe0fdb2e-e1ff-40bc-e273-fb2ab5ea1e57"
      },
      "execution_count": 36,
      "outputs": [
        {
          "output_type": "stream",
          "name": "stdout",
          "text": [
            "['Test kit' 'Oral suspension' 'Tablet' 'Capsule' 'Oral solution'\n",
            " 'Tablet - FDC' 'Powder for oral solution' 'Test kit - Ancillary'\n",
            " 'Chewable/dispersible tablet' 'Delayed-release capsules - blister'\n",
            " 'Tablet - blister' 'Tablet - FDC + blister' 'Tablet - FDC + co-blister'\n",
            " 'Injection' 'Delayed-release capsules'\n",
            " 'Chewable/dispersible tablet - FDC' 'Oral powder']\n"
          ]
        }
      ]
    },
    {
      "cell_type": "code",
      "source": [
        "#finding which dosage forms has dosage 'null'\n",
        "dosage_null = dataset[(dataset['Dosage'].isnull())]\n",
        "print(dosage_null['Dosage Form'].unique())"
      ],
      "metadata": {
        "colab": {
          "base_uri": "https://localhost:8080/"
        },
        "id": "RKjI9eQEBIds",
        "outputId": "e903dc92-6a2a-4481-9ad0-abe90a0225e1"
      },
      "execution_count": 37,
      "outputs": [
        {
          "output_type": "stream",
          "name": "stdout",
          "text": [
            "['Test kit' 'Test kit - Ancillary']\n"
          ]
        }
      ]
    },
    {
      "cell_type": "code",
      "source": [
        "# Set 'Dosage' to '1 Kit' if 'Dosage Form' is 'Test Kit' or 'Test kit - Ancillary'\n",
        "dataset['Dosage'] = np.where(dataset['Dosage Form'].isin(['Test kit', 'Test kit - Ancillary']), '1 Kit', dataset['Dosage'])\n",
        "\n",
        "print(dataset['Dosage'].isnull().sum())"
      ],
      "metadata": {
        "colab": {
          "base_uri": "https://localhost:8080/"
        },
        "id": "innpCLDu_dM5",
        "outputId": "9563a6b9-7c47-421a-968b-6c2891ea5ede"
      },
      "execution_count": 38,
      "outputs": [
        {
          "output_type": "stream",
          "name": "stdout",
          "text": [
            "0\n"
          ]
        }
      ]
    },
    {
      "cell_type": "code",
      "source": [
        "# Impute missing values in 'Shipment Mode' with mode\n",
        "dataset.dropna(inplace=True)\n",
        "\n",
        "# Verify if missing values are handled\n",
        "print(dataset.isnull().sum())"
      ],
      "metadata": {
        "colab": {
          "base_uri": "https://localhost:8080/"
        },
        "id": "fB8M7VGq3QHy",
        "outputId": "b380237f-92f3-4946-ee67-077c7e92bf55"
      },
      "execution_count": 39,
      "outputs": [
        {
          "output_type": "stream",
          "name": "stdout",
          "text": [
            "ID                              0\n",
            "Project Code                    0\n",
            "PQ #                            0\n",
            "PO / SO #                       0\n",
            "ASN/DN #                        0\n",
            "Country                         0\n",
            "Managed By                      0\n",
            "Fulfill Via                     0\n",
            "Vendor INCO Term                0\n",
            "Shipment Mode                   0\n",
            "PQ First Sent to Client Date    0\n",
            "PO Sent to Vendor Date          0\n",
            "Scheduled Delivery Date         0\n",
            "Delivered to Client Date        0\n",
            "Delivery Recorded Date          0\n",
            "Product Group                   0\n",
            "Sub Classification              0\n",
            "Vendor                          0\n",
            "Item Description                0\n",
            "Molecule/Test Type              0\n",
            "Brand                           0\n",
            "Dosage                          0\n",
            "Dosage Form                     0\n",
            "Unit of Measure (Per Pack)      0\n",
            "Line Item Quantity              0\n",
            "Line Item Value                 0\n",
            "Pack Price                      0\n",
            "Unit Price                      0\n",
            "Manufacturing Site              0\n",
            "First Line Designation          0\n",
            "Weight (Kilograms)              0\n",
            "Freight Cost (USD)              0\n",
            "Line Item Insurance (USD)       0\n",
            "dtype: int64\n"
          ]
        }
      ]
    },
    {
      "cell_type": "code",
      "source": [
        "# Convert date columns to datetime objects with explicit format\n",
        "dataset['Scheduled Delivery Date'] = pd.to_datetime(dataset['Scheduled Delivery Date'], format='%d-%b-%y')\n",
        "dataset['Delivered to Client Date'] = pd.to_datetime(dataset['Delivered to Client Date'], format='%d-%b-%y')\n",
        "dataset['Delivery Recorded Date'] = pd.to_datetime(dataset['Delivery Recorded Date'], format='%d-%b-%y')\n",
        "\n",
        "# Verify the data types\n",
        "print(dataset.dtypes)"
      ],
      "metadata": {
        "colab": {
          "base_uri": "https://localhost:8080/"
        },
        "id": "FLCvCJyS6O81",
        "outputId": "7913d577-bc1d-483c-9de6-1acae26c700a"
      },
      "execution_count": 40,
      "outputs": [
        {
          "output_type": "stream",
          "name": "stdout",
          "text": [
            "ID                                       int64\n",
            "Project Code                            object\n",
            "PQ #                                    object\n",
            "PO / SO #                               object\n",
            "ASN/DN #                                object\n",
            "Country                                 object\n",
            "Managed By                              object\n",
            "Fulfill Via                             object\n",
            "Vendor INCO Term                        object\n",
            "Shipment Mode                           object\n",
            "PQ First Sent to Client Date            object\n",
            "PO Sent to Vendor Date                  object\n",
            "Scheduled Delivery Date         datetime64[ns]\n",
            "Delivered to Client Date        datetime64[ns]\n",
            "Delivery Recorded Date          datetime64[ns]\n",
            "Product Group                           object\n",
            "Sub Classification                      object\n",
            "Vendor                                  object\n",
            "Item Description                        object\n",
            "Molecule/Test Type                      object\n",
            "Brand                                   object\n",
            "Dosage                                  object\n",
            "Dosage Form                             object\n",
            "Unit of Measure (Per Pack)               int64\n",
            "Line Item Quantity                       int64\n",
            "Line Item Value                        float64\n",
            "Pack Price                             float64\n",
            "Unit Price                             float64\n",
            "Manufacturing Site                      object\n",
            "First Line Designation                  object\n",
            "Weight (Kilograms)                      object\n",
            "Freight Cost (USD)                      object\n",
            "Line Item Insurance (USD)              float64\n",
            "dtype: object\n"
          ]
        }
      ]
    },
    {
      "cell_type": "code",
      "source": [
        "# Create 'Delivery Delay' column\n",
        "dataset['Delivery Delay'] = (dataset['Delivered to Client Date'] - dataset['Scheduled Delivery Date']).dt.days"
      ],
      "metadata": {
        "id": "mGKEftoS6ubS"
      },
      "execution_count": 41,
      "outputs": []
    },
    {
      "cell_type": "code",
      "source": [
        "delayed_deliveries = dataset[dataset['Delivery Delay'] > 0]\n",
        "\n",
        "# Display the delayed deliveries\n",
        "print(delayed_deliveries)"
      ],
      "metadata": {
        "colab": {
          "base_uri": "https://localhost:8080/"
        },
        "id": "Uh3HHryb8QuI",
        "outputId": "6ab0a86f-2dca-47c4-e31a-b35ff887fc7c"
      },
      "execution_count": 42,
      "outputs": [
        {
          "output_type": "stream",
          "name": "stdout",
          "text": [
            "          ID Project Code            PQ #   PO / SO #  ASN/DN #  \\\n",
            "24       130   100-HT-T01  Pre-PQ Process  SCMS-10080   ASN-628   \n",
            "72       772   131-NG-T01  Pre-PQ Process  SCMS-30502  ASN-3653   \n",
            "122     1196   102-BW-T01  Pre-PQ Process  SCMS-46071  ASN-4324   \n",
            "202     1926   116-ZA-T01  Pre-PQ Process  SCMS-26820  ASN-2487   \n",
            "263     2539   104-CI-T01  Pre-PQ Process  SCMS-44120  ASN-4289   \n",
            "...      ...          ...             ...         ...       ...   \n",
            "10303  86800   111-MZ-T30       FPQ-15195    SO-50141   DN-4231   \n",
            "10304  86801   111-MZ-T30       FPQ-13575    SO-47707   DN-4234   \n",
            "10305  86802   111-MZ-T30       FPQ-15195    SO-50130   DN-4235   \n",
            "10306  86803   111-MZ-T30       FPQ-14843    SO-49721   DN-4236   \n",
            "10320  86819   104-CI-T30       FPQ-15259    SO-50102   DN-4313   \n",
            "\n",
            "             Country Managed By  Fulfill Via Vendor INCO Term Shipment Mode  \\\n",
            "24             Haiti   PMO - US  Direct Drop              EXW           Air   \n",
            "72           Nigeria   PMO - US  Direct Drop              CIP           Air   \n",
            "122         Botswana   PMO - US  Direct Drop              EXW           Air   \n",
            "202     South Africa   PMO - US  Direct Drop              DDP         Truck   \n",
            "263    Côte d'Ivoire   PMO - US  Direct Drop              EXW           Air   \n",
            "...              ...        ...          ...              ...           ...   \n",
            "10303     Mozambique   PMO - US     From RDC   N/A - From RDC         Truck   \n",
            "10304     Mozambique   PMO - US     From RDC   N/A - From RDC         Truck   \n",
            "10305     Mozambique   PMO - US     From RDC   N/A - From RDC         Truck   \n",
            "10306     Mozambique   PMO - US     From RDC   N/A - From RDC         Truck   \n",
            "10320  Côte d'Ivoire   PMO - US     From RDC   N/A - From RDC         Truck   \n",
            "\n",
            "       ... Line Item Quantity Line Item Value Pack Price Unit Price  \\\n",
            "24     ...                750        53992.50      71.99       0.72   \n",
            "72     ...                  9          453.60      50.40       1.68   \n",
            "122    ...                  5         1750.00     350.00       3.50   \n",
            "202    ...                 50          663.50      13.27       0.22   \n",
            "263    ...               1000       110000.00     110.00       2.75   \n",
            "...    ...                ...             ...        ...        ...   \n",
            "10303  ...             200000      1920000.00       9.60       0.32   \n",
            "10304  ...              28516       220143.52       7.72       0.13   \n",
            "10305  ...             300000      2316000.00       7.72       0.13   \n",
            "10306  ...              16006        73467.54       4.59       0.15   \n",
            "10320  ...              21072       137389.44       6.52       0.11   \n",
            "\n",
            "                  Manufacturing Site First Line Designation  \\\n",
            "24                   Inverness Japan                    Yes   \n",
            "72                  MSD, Haarlem, NL                    Yes   \n",
            "122        Pacific Biotech, Thailand                    Yes   \n",
            "202                       GSK Aranda                    Yes   \n",
            "263             Bio-Rad Laboratories                    Yes   \n",
            "...                              ...                    ...   \n",
            "10303   Hetero Unit III Hyderabad IN                    Yes   \n",
            "10304   Hetero Unit III Hyderabad IN                    Yes   \n",
            "10305   Hetero Unit III Hyderabad IN                    Yes   \n",
            "10306  Hetero, Jadcherla, unit 5, IN                    Yes   \n",
            "10320   Hetero Unit III Hyderabad IN                     No   \n",
            "\n",
            "               Weight (Kilograms)                  Freight Cost (USD)  \\\n",
            "24                            171                             3518.38   \n",
            "72     Weight Captured Separately  Freight Included in Commodity Cost   \n",
            "122                            12                              684.42   \n",
            "202    Weight Captured Separately  Freight Included in Commodity Cost   \n",
            "263                          1073                             8114.11   \n",
            "...                           ...                                 ...   \n",
            "10303                       26603                            19194.37   \n",
            "10304                        3772                             3567.08   \n",
            "10305                       39688                            28277.42   \n",
            "10306                        1504                              1653.9   \n",
            "10320     See DN-4313 (ID#:83921)             See DN-4313 (ID#:83921)   \n",
            "\n",
            "      Line Item Insurance (USD) Delivery Delay  \n",
            "24                        86.39              8  \n",
            "72                         0.89             29  \n",
            "122                        3.43             28  \n",
            "202                        1.06              4  \n",
            "263                      215.60             35  \n",
            "...                         ...            ...  \n",
            "10303                   2259.84              9  \n",
            "10304                    226.31             17  \n",
            "10305                   2725.93             11  \n",
            "10306                     75.52             17  \n",
            "10320                    161.71              6  \n",
            "\n",
            "[1179 rows x 34 columns]\n"
          ]
        }
      ]
    }
  ]
}